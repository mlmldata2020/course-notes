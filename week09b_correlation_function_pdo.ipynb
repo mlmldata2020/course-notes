{
 "cells": [
  {
   "cell_type": "markdown",
   "metadata": {},
   "source": [
    "# The Pacific Decadal Oscillation and autocorrelation\n",
    "\n",
    "In this notebook, the Pacific Decadal Oscillation (PDO) is used to demonstrate the autocorrelation of a function at various time lags. As we have already learned, the PDO is the first principle component of sea surface temperature in the North Pacific (see [Week 07 Lecture Notes](week07a-PCA-EOF.ipynb)). This particular version of the PDO is an NOAA extended reconstruction that provides monthly values all the way back to 1854.\n",
    "\n",
    "Data source:\n",
    "https://www.ncdc.noaa.gov/teleconnections/pdo/"
   ]
  },
  {
   "cell_type": "code",
   "execution_count": 1,
   "metadata": {},
   "outputs": [
    {
     "data": {
      "text/html": [
       "<div>\n",
       "<style>\n",
       "    .dataframe thead tr:only-child th {\n",
       "        text-align: right;\n",
       "    }\n",
       "\n",
       "    .dataframe thead th {\n",
       "        text-align: left;\n",
       "    }\n",
       "\n",
       "    .dataframe tbody tr th {\n",
       "        vertical-align: top;\n",
       "    }\n",
       "</style>\n",
       "<table border=\"1\" class=\"dataframe\">\n",
       "  <thead>\n",
       "    <tr style=\"text-align: right;\">\n",
       "      <th></th>\n",
       "      <th>Date</th>\n",
       "      <th>Value</th>\n",
       "    </tr>\n",
       "  </thead>\n",
       "  <tbody>\n",
       "    <tr>\n",
       "      <th>0</th>\n",
       "      <td>185401</td>\n",
       "      <td>-1.17</td>\n",
       "    </tr>\n",
       "    <tr>\n",
       "      <th>1</th>\n",
       "      <td>185402</td>\n",
       "      <td>-0.95</td>\n",
       "    </tr>\n",
       "    <tr>\n",
       "      <th>2</th>\n",
       "      <td>185403</td>\n",
       "      <td>-0.75</td>\n",
       "    </tr>\n",
       "    <tr>\n",
       "      <th>3</th>\n",
       "      <td>185404</td>\n",
       "      <td>-0.52</td>\n",
       "    </tr>\n",
       "    <tr>\n",
       "      <th>4</th>\n",
       "      <td>185405</td>\n",
       "      <td>-0.52</td>\n",
       "    </tr>\n",
       "  </tbody>\n",
       "</table>\n",
       "</div>"
      ],
      "text/plain": [
       "     Date  Value\n",
       "0  185401  -1.17\n",
       "1  185402  -0.95\n",
       "2  185403  -0.75\n",
       "3  185404  -0.52\n",
       "4  185405  -0.52"
      ]
     },
     "execution_count": 1,
     "metadata": {},
     "output_type": "execute_result"
    }
   ],
   "source": [
    "import pandas as pd\n",
    "import numpy as np\n",
    "import matplotlib.pyplot as plt\n",
    "\n",
    "filename = 'data/week09_PDO/pdo.dat'\n",
    "\n",
    "df = pd.read_csv(filename,skiprows=1)\n",
    "df.head()"
   ]
  },
  {
   "cell_type": "markdown",
   "metadata": {},
   "source": [
    "The dates are given as numbers in `yyyymm` format. This code creates a new data array that contains the date in the NumPy `datetime64` format."
   ]
  },
  {
   "cell_type": "code",
   "execution_count": 2,
   "metadata": {},
   "outputs": [
    {
     "data": {
      "text/html": [
       "<div>\n",
       "<style>\n",
       "    .dataframe thead tr:only-child th {\n",
       "        text-align: right;\n",
       "    }\n",
       "\n",
       "    .dataframe thead th {\n",
       "        text-align: left;\n",
       "    }\n",
       "\n",
       "    .dataframe tbody tr th {\n",
       "        vertical-align: top;\n",
       "    }\n",
       "</style>\n",
       "<table border=\"1\" class=\"dataframe\">\n",
       "  <thead>\n",
       "    <tr style=\"text-align: right;\">\n",
       "      <th></th>\n",
       "      <th>Date</th>\n",
       "      <th>Value</th>\n",
       "      <th>datetime</th>\n",
       "    </tr>\n",
       "  </thead>\n",
       "  <tbody>\n",
       "    <tr>\n",
       "      <th>0</th>\n",
       "      <td>185401</td>\n",
       "      <td>-1.17</td>\n",
       "      <td>1854-01-01</td>\n",
       "    </tr>\n",
       "    <tr>\n",
       "      <th>1</th>\n",
       "      <td>185402</td>\n",
       "      <td>-0.95</td>\n",
       "      <td>1854-02-01</td>\n",
       "    </tr>\n",
       "    <tr>\n",
       "      <th>2</th>\n",
       "      <td>185403</td>\n",
       "      <td>-0.75</td>\n",
       "      <td>1854-03-01</td>\n",
       "    </tr>\n",
       "    <tr>\n",
       "      <th>3</th>\n",
       "      <td>185404</td>\n",
       "      <td>-0.52</td>\n",
       "      <td>1854-04-01</td>\n",
       "    </tr>\n",
       "    <tr>\n",
       "      <th>4</th>\n",
       "      <td>185405</td>\n",
       "      <td>-0.52</td>\n",
       "      <td>1854-05-01</td>\n",
       "    </tr>\n",
       "  </tbody>\n",
       "</table>\n",
       "</div>"
      ],
      "text/plain": [
       "     Date  Value   datetime\n",
       "0  185401  -1.17 1854-01-01\n",
       "1  185402  -0.95 1854-02-01\n",
       "2  185403  -0.75 1854-03-01\n",
       "3  185404  -0.52 1854-04-01\n",
       "4  185405  -0.52 1854-05-01"
      ]
     },
     "execution_count": 2,
     "metadata": {},
     "output_type": "execute_result"
    }
   ],
   "source": [
    "df['datetime'] = pd.to_datetime(df['Date'].astype(str),format='%Y%m')\n",
    "df.head()"
   ]
  },
  {
   "cell_type": "code",
   "execution_count": 3,
   "metadata": {},
   "outputs": [],
   "source": [
    "pdo = df['Value']\n",
    "t = np.arange(0,len(pdo))"
   ]
  },
  {
   "cell_type": "markdown",
   "metadata": {},
   "source": [
    "## Plotting the PDO time series"
   ]
  },
  {
   "cell_type": "code",
   "execution_count": 4,
   "metadata": {},
   "outputs": [
    {
     "data": {
      "text/plain": [
       "Text(0.5,1,'PDO index - NOAA extended reconstruction')"
      ]
     },
     "execution_count": 4,
     "metadata": {},
     "output_type": "execute_result"
    },
    {
     "data": {
      "image/png": "[encoded data removed]",
      "text/plain": [
       "<Figure size 432x288 with 1 Axes>"
      ]
     },
     "metadata": {},
     "output_type": "display_data"
    }
   ],
   "source": [
    "plt.figure()\n",
    "plt.plot(df['datetime'],pdo)\n",
    "plt.title('PDO index - NOAA extended reconstruction')"
   ]
  },
  {
   "cell_type": "markdown",
   "metadata": {},
   "source": [
    "## Autocorrelation function"
   ]
  },
  {
   "cell_type": "markdown",
   "metadata": {},
   "source": [
    "The *autocorrelation function* is the correlation of a time series with itself, as a function of time lag.\n",
    "\n",
    "If there is no lag, the correlation of a time series with itself is equal to 1."
   ]
  },
  {
   "cell_type": "code",
   "execution_count": 5,
   "metadata": {},
   "outputs": [
    {
     "data": {
      "text/plain": [
       "array([[1., 1.],\n",
       "       [1., 1.]])"
      ]
     },
     "execution_count": 5,
     "metadata": {},
     "output_type": "execute_result"
    }
   ],
   "source": [
    "np.corrcoef(pdo,pdo)"
   ]
  },
  {
   "cell_type": "markdown",
   "metadata": {},
   "source": [
    "However, if we offset the time series by one month ($\\tau = 1$) and then compute the correlation coefficient $r(\\tau=1)$, it is still fairly high but not equal to one."
   ]
  },
  {
   "cell_type": "code",
   "execution_count": 6,
   "metadata": {},
   "outputs": [
    {
     "name": "stdout",
     "output_type": "stream",
     "text": [
      "r(tau=1) = 0.82\n"
     ]
    }
   ],
   "source": [
    "r_1 = np.corrcoef(pdo[1:],pdo[:-1])[1,0]\n",
    "print('r(tau=1) = '+ str(r_1)[:4])"
   ]
  },
  {
   "cell_type": "markdown",
   "metadata": {},
   "source": [
    "In this case, we are computing the correlation between the two time series shown below. Only the first 40 months of the time series are shown for clarity."
   ]
  },
  {
   "cell_type": "code",
   "execution_count": 12,
   "metadata": {},
   "outputs": [
    {
     "data": {
      "image/png": "[encoded data removed]",
      "text/plain": [
       "<Figure size 432x288 with 1 Axes>"
      ]
     },
     "metadata": {},
     "output_type": "display_data"
    }
   ],
   "source": [
    "plt.figure()\n",
    "plt.plot(df['datetime'][1:],pdo[1:],'r-o')\n",
    "plt.plot(df['datetime'][1:],pdo[:-1],'b-o')\n",
    "plt.xlim(df['datetime'][0],df['datetime'][40])\n",
    "plt.xticks(rotation=30)\n",
    "plt.title('PDO index - NOAA extended reconstruction \\n lag $\\\\tau$ = 1 month, r = '+str(r_1)[:4]);"
   ]
  },
  {
   "cell_type": "code",
   "execution_count": 8,
   "metadata": {},
   "outputs": [
    {
     "name": "stdout",
     "output_type": "stream",
     "text": [
      "r(tau=2) = 0.67\n"
     ]
    }
   ],
   "source": [
    "r_2 = np.corrcoef(pdo[2:],pdo[:-2])[1,0]\n",
    "print('r(tau=2) = '+ str(r_2)[:4])"
   ]
  },
  {
   "cell_type": "code",
   "execution_count": 9,
   "metadata": {},
   "outputs": [
    {
     "data": {
      "text/plain": [
       "Text(0.5,1,'PDO index - NOAA extended reconstruction \\n lag $\\\\tau$ = 1 month, r = 0.67')"
      ]
     },
     "execution_count": 9,
     "metadata": {},
     "output_type": "execute_result"
    },
    {
     "data": {
      "image/png": "[encoded data removed]",
      "text/plain": [
       "<Figure size 432x288 with 1 Axes>"
      ]
     },
     "metadata": {},
     "output_type": "display_data"
    }
   ],
   "source": [
    "plt.figure()\n",
    "plt.plot(df['datetime'][2:],pdo[2:],'r-o')\n",
    "plt.plot(df['datetime'][2:],pdo[:-2],'b-o')\n",
    "plt.xlim([df['datetime'][0],df['datetime'][40]])\n",
    "plt.xticks(rotation=30)\n",
    "plt.title('PDO index - NOAA extended reconstruction \\n lag $\\\\tau$ = 1 month, r = '+str(r_2)[:4])"
   ]
  },
  {
   "cell_type": "markdown",
   "metadata": {},
   "source": [
    "## Exercises\n",
    "\n",
    "* Compute the correlation coefficient (r) for a lag of $\\tau$ = 3 months\n",
    "* Compute the correlation coefficient (r) for the first 800 lags\n",
    "* Plot the autocorrelation function (r vs. lag)\n",
    "* Compute the decorrelation time scale (lag where r goes to 0)\n",
    "\n",
    "__First:__ Write out the *algorithm* in words."
   ]
  },
  {
   "cell_type": "code",
   "execution_count": null,
   "metadata": {},
   "outputs": [],
   "source": []
  }
 ],
 "metadata": {
  "anaconda-cloud": {},
  "kernelspec": {
   "display_name": "Python [default]",
   "language": "python",
   "name": "python3"
  },
  "language_info": {
   "codemirror_mode": {
    "name": "ipython",
    "version": 3
   },
   "file_extension": ".py",
   "mimetype": "text/x-python",
   "name": "python",
   "nbconvert_exporter": "python",
   "pygments_lexer": "ipython3",
   "version": "3.5.5"
  }
 },
 "nbformat": 4,
 "nbformat_minor": 4
}
