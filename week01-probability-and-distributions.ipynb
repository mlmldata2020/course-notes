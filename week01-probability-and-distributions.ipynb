{
 "cells": [
  {
   "cell_type": "code",
   "execution_count": 1,
   "metadata": {
    "collapsed": true
   },
   "outputs": [],
   "source": [
    "%matplotlib inline\n",
    "import numpy as np\n",
    "from scipy import stats\n",
    "import matplotlib.pyplot as plt"
   ]
  },
  {
   "cell_type": "markdown",
   "metadata": {},
   "source": [
    "## Focus questions\n",
    "\n",
    "Goals for student knowledge at the end of the lesson:\n",
    "\n",
    "1. Give examples of situations where the following distributions are an appropriate model for observed data:\n",
    "    - Poission\n",
    "    - Weibull\n",
    "    - log-normal\n",
    "    - normal\n",
    "2. Apply Bayes' theorem to determine probability in cases where trials are not independent."
   ]
  },
  {
   "cell_type": "markdown",
   "metadata": {},
   "source": [
    "## Probability Density functions\n",
    "\n",
    "__Probability Functions__\n",
    "\n",
    "$P(x)$ = probability mass function (for discrete data)\n",
    "\n",
    "_Example:_ The probability an number $x$ coming up on a dice role. The PMF is plotted as vertical lines because the probability of rolling a non-integer (e.g. 3.5) is equal to zero.\n",
    " "
   ]
  },
  {
   "cell_type": "code",
   "execution_count": 11,
   "metadata": {},
   "outputs": [
    {
     "data": {
      "image/png": "[encoded data removed]",
      "text/plain": [
       "<Figure size 432x288 with 1 Axes>"
      ]
     },
     "metadata": {},
     "output_type": "display_data"
    }
   ],
   "source": [
    "# generate a uniform distribution\n",
    "# see https://docs.scipy.org/doc/scipy/reference/generated/scipy.stats.randint.html#scipy.stats.randint\n",
    "low = 1\n",
    "high = 7\n",
    "rv = stats.randint(low, high)\n",
    "\n",
    "# plot the probability mass function\n",
    "x = np.arange(low,high)\n",
    "plt.vlines(x, 0, rv.pmf(x), colors='b', linestyles='-', lw=3)\n",
    "plt.xlim(0.5,6.5)\n",
    "plt.ylim(0,0.175)\n",
    "plt.title('probability mass function (PMF) for a roll of one die')\n",
    "plt.xlabel('value')\n",
    "plt.ylabel('probability');"
   ]
  },
  {
   "cell_type": "markdown",
   "metadata": {},
   "source": [
    "$F(x)$ = cumulative distribution function\n",
    "\n",
    "The cumulative distribution is the probability of occurrence of a value of $x$ or lower. For the example of one die roll, the CDF is a step function."
   ]
  },
  {
   "cell_type": "code",
   "execution_count": 10,
   "metadata": {},
   "outputs": [
    {
     "data": {
      "image/png": "[encoded data removed]",
      "text/plain": [
       "<Figure size 432x288 with 1 Axes>"
      ]
     },
     "metadata": {},
     "output_type": "display_data"
    }
   ],
   "source": [
    "# make a step function from points, function adapted from http://stackoverflow.com/a/41185239\n",
    "def get_x_y_steps(x, y, where=\"post\"):\n",
    "    zipxx = list(zip(x, x))\n",
    "    zipyy = list(zip(y, y))\n",
    "    if where == \"post\":\n",
    "        x_step = [x[0]] + [_x for tup in zipxx[1:] for _x in tup]\n",
    "        y_step = [_y for tup in zipyy[:-1] for _y in tup] + [y[-1]]\n",
    "    elif where == \"pre\":\n",
    "        x_step = [_x for tup in zipxx[:-1] for _x in tup] + [x[-1]]\n",
    "        y_step = [y[0]] + [_y for tup in zipyy[1:] for _y in tup]\n",
    "    return x_step, y_step\n",
    "\n",
    "# create step function for CDF\n",
    "xcdf = np.hstack([0,x,x[-1]+1])\n",
    "ycdf = np.hstack([0,rv.cdf(x),1])\n",
    "(x_step,y_step) = get_x_y_steps(xcdf,ycdf)\n",
    "\n",
    "# plot CDF\n",
    "plt.plot(x_step, y_step,lw=3,color='b')\n",
    "plt.xlim(0.5,6.5)\n",
    "plt.ylim(0,1)\n",
    "plt.title('cumulative distribution function (CDF) for a roll of one die')\n",
    "plt.xlabel('value')\n",
    "plt.ylabel('probability');"
   ]
  },
  {
   "cell_type": "markdown",
   "metadata": {},
   "source": [
    "__Mutiplication Principle__ - If two events $A$ and $B$ are unrelated, the probability of joint occurrence $P(A,B)$, i.e. both events happening, is multiplication of two probabilities,\n",
    "\n",
    "$P(A,B)  = p(B)p(A)$.\n",
    "\n",
    "This is a simplification of __Bayes' theorem__ for the special case where events are independent. In the more general case where the probability of events are not independent, \n",
    "\n",
    "$P(A,B) = p(B|A)p(A) = p(A|B)p(B)$,\n",
    "\n",
    "where $p(A|B)$ is the probability of $A$ occuring, given that $B$ has already occurred. In this case, the two events depend on each other, which is not the case for dice.\n",
    "\n",
    "__Additive principle__ - Probability of one event or another mutually exclusive event is the sum of the probabilities. Mutually exclusive means that the events cannot occur at the same time.\n",
    "\n",
    "$P(C|D) = P(C) + P(D)$"
   ]
  },
  {
   "cell_type": "markdown",
   "metadata": {},
   "source": [
    "### Sum of two dice\n",
    "\n",
    "From the rules above, we can calculate the probability mass function and cumulative distribution function for the sum of two dice. From the multiplcation rule, the probability of rolling a particular sequence of dice is (1/6) $\\times$ (1/6) = 1/36. This is the probability of a joint occurrence of two independent events. For example, the combinations (1 and 1), (1 and 2), (2 and 1) and (1 and 3) are all joint occurrences of two independent events.\n",
    "\n",
    "The probability of obtaining a certain sum, which may be arrived at through several possible sequences of dice rolls, can be calculated from the addition rule. There are three ways of obtaining a sum of four: (1 and 3) or (2 and 2) or (3 and 1). These combinations of rolls are mutually exlusive. Therefore the probability of rolling a four is (1/36) + (1/36) + (1/36) = 1/12.\n",
    "\n",
    "__Exercises__:\n",
    "\n",
    "* Graph the probability mass function and cumulative distribution function for the sum of two dice.\n",
    "\n",
    "* Roll actual dice and calculate the sum of two dice from multiple trials. Plot the observed probability mass function from this limited set of trials. Compare the observed distribution with the theoretical distribution derived from probability theory above and discuss."
   ]
  },
  {
   "cell_type": "markdown",
   "metadata": {},
   "source": [
    "## Distributions\n",
    "\n",
    "### Normal Distribution\n",
    "\n",
    "<img src=\"images/norm_dist_rule.png\" width=\"450\">\n",
    "[Wikipedia](https://en.wikipedia.org/wiki/Normal_distribution#/media/File:Empirical_Rule.PNG)\n",
    "\n",
    "\n",
    "* __Mean__ - 1st moment\n",
    "* __Variance__ - 2nd moment\n",
    "* __Skew__ - 3rd moment, Describes the spread (Normal Distribution, skew = 0)\n",
    "* __Kurtosis__ - 4th moment, Describes how pointy the distribution is. Low value would be flat (compared to a Normal distribution (k=3))\n",
    "\n",
    "### Non-normal distributions\n",
    "__Example: Life expectancy__<br>\n",
    "\n",
    "Negative skew towards later life (spike at birth). The cumulative probability function is useful because we are not necessarily interested in the probability of dying at a very specific age, like exactly 67 years. We are more interested in the probability of living until a certain age or less. The cumulative probability distribution tapers off to one for very high ages. The probability of living to 120 years or less is equal to one.\n",
    "\n",
    "<div style=\"float: left;\" width =\"1000\">\n",
    "    <img src=\"images/life_expectancy_1.png\" style=\"float: left;\" width=\"50%\"><img src=\"images/life_expectancy_2.png\" width=\"50%\" style=\"float: right;\">\n",
    "</div>\n",
    "source: http://www.cureffi.org/2013/06/19/how-censoring-by-life-expectancy-affects-age-of-onset-distributions/\n",
    "\n",
    "\n",
    "### Poisson Distribution\n",
    "  * Often used as a model for count data\n",
    "  * Assumptions:\n",
    "    * One event does not affect the probability of the next (they are independent)\n",
    "    * Events cannot occur in the same time and place in the interval\n",
    "    * Events occur at a constant rate<br>\n",
    "\n",
    "    $k$ = # of events counted per interval (ie floods per century)<br>\n",
    "    $\\lambda$ = expected values, true mean\n",
    "    \n",
    "     $P(k$ events per interval$)$ = $\\frac{\\lambda e^{-\\lambda}}{k!} $\n",
    "\n",
    "    Count uncertainty  = $\\sqrt{k}$ - More counts => less uncertainty\n",
    "\n",
    "__Exercise__: if on average 10 flood occur per century. What is probability of counting 15 floods occuring in a centry?"
   ]
  },
  {
   "cell_type": "markdown",
   "metadata": {},
   "source": [
    "### Weibull Distribution \n",
    "\n",
    "A theoretical distribution that is often fit to wind speed data. Wind speed has only positive values, so the probability of a negative wind speed is zero. The distribution of wind speed is generally skewed, since very high values do occur, but are rare. This theoretical distribution is useful for engineering wind power projects, since it can be defined by a few parameters. The parameters obtained from a fit to data at a given location can be used as inputs to models for designing equipment with maximum efficiency.\n",
    "\n",
    "<img src=\"images/weibull.png\" width=\"500\" align='center'>\n",
    "Source: http://www.wind-powemr-program.com/wind_statistics.htm\n",
    "\n",
    "\n",
    "### Log-Normal Distribution \n",
    "\n",
    "Many biological data, such as growth rates, follow a log-normal distribution. The distributions are skewed, with a peak close to zero but a long tail of rare high values. These data can be transformed by taking the logarithm, giving a distribution that is more symmetric and closer to a normal distribution.\n",
    "\n",
    "<img src=\"images/log_normal.png\" width=\"600\" align='center'>\n",
    "source: Landry, M.R. and B.M. Hickey (eds.) (1989) Coastal Oceanography of Washington and\n",
    "Oregon, 607 pp., Elsevier Science, Amsterdam, The Netherlands."
   ]
  },
  {
   "cell_type": "markdown",
   "metadata": {},
   "source": [
    "### Back to Normal Distributions\n",
    "\n",
    "Random instrument error is often normally distributed. The mean of errors tends to be zero if error is randomly distributed and _accurate_, i.e. not biased.\n",
    "\n",
    "<img src='images/instr_error_dist.png' width='500'>\n",
    "source: T. Connolly\n",
    "\n",
    "In this example, error is defined as: $T_{sat} - T_{mooring}$ units of [$^o$C]. There is a fairly large spread in the data. We therefore cannot be extremely confident in any particular satellite image. However, we can be confident that the mean of a large number of errors is close to zero.\n",
    "\n",
    "Normal distributions can be \"standardized\", where the\n",
    "* mean = 0\n",
    "* standard deviation = 1\n",
    "* Unitless\n",
    "\n",
    "The __z-score__ transforms the data so that each data point is unitless and described in terms of standard deviations away from the mean.\n",
    "\n",
    "## $ z_i = \\frac{x_i - \\bar{x}}{ s } $ ##\n",
    "\n",
    "The z-score can be helpful for identifying outliers (large Z-scores). Outliers are often classified as having a z-score of $\\pm$ 3. However, the basic rules of scientific integrity require that you have a good reason for excluding outliers from your analysis, and report that they have been excluded. Never delete outliers from the original data set."
   ]
  }
 ],
 "metadata": {
  "anaconda-cloud": {},
  "kernelspec": {
   "display_name": "Python [default]",
   "language": "python",
   "name": "python3"
  },
  "language_info": {
   "codemirror_mode": {
    "name": "ipython",
    "version": 3
   },
   "file_extension": ".py",
   "mimetype": "text/x-python",
   "name": "python",
   "nbconvert_exporter": "python",
   "pygments_lexer": "ipython3",
   "version": "3.5.5"
  }
 },
 "nbformat": 4,
 "nbformat_minor": 2
}
