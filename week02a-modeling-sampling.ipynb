{
 "cells": [
  {
   "cell_type": "markdown",
   "metadata": {},
   "source": [
    "# Week02 - Statistical modeling, sampling, central limit theorem, confidence intervals # \n",
    "\n",
    "### Recommended reading ###\n",
    "\n",
    "http://statsthinking21.org/index.html\n",
    "Chapters 8,12,14\n",
    "\n",
    "Emery and Thomson: Confidence intervals, 3.8.1, 3.8.2 – Confidence interval for mean"
   ]
  },
  {
   "attachments": {},
   "cell_type": "markdown",
   "metadata": {},
   "source": [
    "### Probability Density Function (PDF) review with example data set\n",
    "\n",
    "#### Probability density function\n",
    "\n",
    "N = 10623 anchovy weight samples\n",
    "\n",
    "Δ𝑥 = 5 g\n",
    "\n",
    "**Review**: How to calculate PDF from counts, N and Δ𝑥 ?\n",
    "\n",
    "* With the histogram we have the following information: counts, bin width ( Δ𝑥 = 5g), N (samples).  \n",
    "\n",
    "PDF = fraction/Δ𝑥 = counts/N\\*Δ𝑥\n",
    "\n",
    "<img src=\"images/Trawl_Life_Hist_Samp_Data.png\" style=\"float: left;\" width=\"50%\">\n",
    "\n",
    "\n",
    "#### NOAA SWFSC - Trawl Life History Specimen Data \n",
    "\n",
    "fishery independent trawl surveys of coastal pelagic species\n",
    "\n",
    "Surveys: 2003-2019"
   ]
  },
  {
   "attachments": {},
   "cell_type": "markdown",
   "metadata": {},
   "source": [
    "### Subsampled data set\n",
    "\n",
    "\n",
    "<img src=\"images/subsamp_engraulis_mordax.png\" style=\"float: right;\" width=\"50%\">\n",
    "\n",
    "N = 100 anchovy weight samples\n",
    "\n",
    "#### What are the key differences, similarities of distribution, compared with all 10623 samples?\n",
    "\n",
    "**differences**: a pdf of smaller sample sizes are noiser, less smooth.  May see more variability from one bin to the next.\n",
    "\n",
    "**similarities**: theoretical distribution resembles poisson distribution (skewed data set with a longer tail), scale of y-axis (normalized by the bin width so magnitudes of different data sets are comparable)"
   ]
  },
  {
   "cell_type": "markdown",
   "metadata": {},
   "source": [
    "### Statistical modeling\n",
    "**What is a model?** - \n",
    "physical models (of a building, of monterey bay, of a cell or a molecule).  The general characteristics of a physical model is able to represent something on a different scale to make it easier to understand, to convey the essence of what you are model without having to worry about all the details. a statistical model is same basic idea as a physical model, we want to convey the essence of the dataset without having to use an entire dataset\n",
    "\n",
    "**basic structure of a statistic model** -\n",
    "statistical model is based off data\n",
    "\n",
    "data = model + error\n",
    "\n",
    "* one of the key goals is to quantify that error"
   ]
  },
  {
   "attachments": {},
   "cell_type": "markdown",
   "metadata": {},
   "source": [
    "slide 6\n",
    "### Example data set: simplest model\n",
    "\n",
    "<img src=\"images/Trawl_Life_Hist_Samp_Data.png\" style=\"float: right;\" width=\"50%\">\n",
    "\n",
    "#### The simplest possible model is a single value \n",
    "* Mode = 5 g\n",
    "\n",
    "* Mean = 15.326 g\n",
    "\n",
    "* Median = 14 g\n",
    "\n",
    "In this case the mean is much bigger than the mode is about 15 grams (data is skewed).  A median describes the central value, or 50th percentile in the data set.\n",
    "\n",
    "If we use the mode as the model, we can write it as:\n",
    "$\\hat{weight_i}$ = 5 g\n",
    "\n",
    "$\\hat{}$ denotes a value predicted by the model\n",
    "\n",
    "$_i$ is a data point with the model value, a generic observation.  If it were a subset of 1, it could mean the first row in a spreadsheet, or 2 meaning the second row, etc.\n",
    "\n",
    "We can describe the error based on the model structure:\n",
    "$error_i = weight_i - \\hat{weight_i}$\n",
    "\n",
    "Each observation has a model value and an error associated with it.  \n",
    "\n",
    "$weight_i$ is an observation, or data point\n",
    "\n",
    "In the example, if we have 10K data points, then we have 10k errors."
   ]
  },
  {
   "attachments": {},
   "cell_type": "markdown",
   "metadata": {},
   "source": [
    "### Example data set: mode as a model\n",
    "\n",
    "<img src=\"images/subsamp_engraulis_mordax_mode.png\" style=\"float: middle;\" width=\"50%\">\n",
    "Average error when using mode as model:\n",
    "10.326 g\n",
    "\n",
    "If we use the mean as a model, will the average error increase or decrease?"
   ]
  },
  {
   "attachments": {},
   "cell_type": "markdown",
   "metadata": {},
   "source": [
    "### Example data set: mean as a model\n",
    "\n",
    "<img src=\"images/subsamp_engraulis_mordax_mean.png\" style=\"float: right;\" width=\"50%\">\n",
    "\n",
    "If we use the mean as a model, $\\hat{weight_i} = the mean$\n",
    "\n",
    "*The average error when using mean as a model is 0.0g.  In this case, the negative errors cancel out the positive errors, and in this case, using the mean as a model does not best describe the data.*\n",
    "\n",
    "#### What other metrics can we use to quantify model error?\n",
    "\n",
    "Some ways of quantifying the error:\n",
    "\n",
    "We can describe the mean error (average error) as:\n",
    "\n",
    "$$ME = \\frac{1}{N} \\sum_{i=1}^N (x_i - \\hat{x_i})$$\n",
    "\n",
    "If our model ($\\hat{x_i}$) is the mean of the dataset ($\\bar{x_i}$), then the ME = 0 and is unbiased.\n",
    "\n",
    "\n",
    "#### Sum of Squared Errors\n",
    "\n",
    "$SSE = \\sum_{i=1}^N (x_i - \\hat{x_i})^2 $\n",
    "\n",
    "(This treats the positive and negative values equally)\n",
    "\n",
    "#### Mean Squared Error\n",
    "\n",
    "$MSE = \\frac{1}{N} SSE$\n",
    "\n",
    "#### Root Mean Square Error \n",
    "\n",
    "$ RMSE = \\sqrt{MSE}$\n",
    "\n",
    "The units for RMSE will make it easier to understand the error mismatch. This is a summary of all the errors in the dataset by penalizing all errors in the dataset equally.\n",
    "\n",
    "* RMSE(mean) = 9.71 grams (describing the spread or standard deviation of the error)\n",
    "* RMSE(mode) = 14.18 grams (this is biased)"
   ]
  },
  {
   "attachments": {},
   "cell_type": "markdown",
   "metadata": {},
   "source": [
    "### The mean is the single value that minimizes RMSE \n",
    "\n",
    "<img src=\"images/RMSE_min.png\" style=\"float: left;\" width=\"50%\">\n",
    "\n",
    "* This plot is showing the rmse as a function of the model value. Different models will minimize different types of errors (mean, median, mode).\n",
    "\n",
    "* This plot is called a 'cost function' we have a model parameter (x-axis), we have a cost (y-value).  The goal of modeling is to minimize the cost function"
   ]
  },
  {
   "attachments": {},
   "cell_type": "markdown",
   "metadata": {},
   "source": [
    "### Example data set: linear model \n",
    "\n",
    "<img src=\"images/lin_mod_example.png\" style=\"float: right;\" width=\"50%\">\n",
    "\n",
    "#### RMSE = 3.57 g\n",
    "\n",
    "Looking at the data, it looks like a linear model only works for part of the data.  If we were going to use this linear model, our equation would be: \n",
    "\n",
    "$\\hat{weight_i} =  constant + a * length_i$\n",
    "\n",
    "$\\hat{}$ indicates ${weight_i}$ is a model\n",
    "\n",
    "constant = the intercept\n",
    "\n",
    "a = the slope\n",
    "\n",
    "* The intercept and slope are the model parameters. You can think of the error as being the vertical distance between the data point and the model."
   ]
  },
  {
   "attachments": {},
   "cell_type": "markdown",
   "metadata": {},
   "source": [
    "### Example data set: quadratic model \n",
    "\n",
    "#### RMSE = 2.11 g\n",
    "<img src=\"images/quad_mod_example.png\" style=\"float: right;\" width=\"50%\">\n",
    "\n",
    "$\\hat{weight_i} =  constant + a * length_i + b * length_i^2$\n",
    "\n",
    "The constant, a, and b are model parameters that describe the structure or the shape of the model. We can find the model that minimizes the RMSE.  This looks like it is doing better than a linear model, but the model indicates that their weight decreases as they get bigger for smaller fish.  It still has some systematic errors where there is some bias."
   ]
  },
  {
   "attachments": {},
   "cell_type": "markdown",
   "metadata": {},
   "source": [
    "### Example data set: data transformation\n",
    "\n",
    "<img src=\"images/data_trans_example.png\" style=\"float: left;\" width=\"50%\">\n",
    "\n",
    "This is the same data transformed to a logarithmic scale, and now it appears that a linear model may be appropriate.  Now, we are not minimizing the RMSE, you are minimizing the logarthmic RMSE.\n",
    "\n",
    "#### What makes a model good?\n",
    "\n",
    "- good fit\n",
    "- minimizes error\n",
    "- represents actual scenario of the data (think ahead of error sources)\n",
    "- is not overcomplicated"
   ]
  },
  {
   "attachments": {},
   "cell_type": "markdown",
   "metadata": {},
   "source": [
    "### Modeling another species - Overfitting\n",
    "\n",
    "<img src=\"images/overfit_example.png\" style=\"float: right;\" width=\"50%\">\n",
    "\n",
    "#### Seventh degree polynomial fit to nine data points."
   ]
  },
  {
   "cell_type": "markdown",
   "metadata": {},
   "source": [
    "### Overfitting\n",
    "\n",
    "<img src=\"images/overfit_example_more_data.png\" style=\"float: left;\" width=\"50%\">\n",
    "\n",
    "* Model is overcomplicated and not representative of the actual scenario.  If another datapoint is added not on the model, the RMSE will be huge.  More data points will quickly deteriorate the model."
   ]
  },
  {
   "attachments": {},
   "cell_type": "markdown",
   "metadata": {},
   "source": [
    "### Sampling\n",
    "* *Statistical inference*: One of the foundational ideas in statistics is that we can make inferences about an entire population based on a relatively small sample of individuals from that population.\n",
    "\n",
    "* *Goal of sampling*: determine the value of a statistic for an entire population of interest, using just a small subset of the population.\n",
    "\n",
    "The way in which we select the sample is critical to ensuring that the sample is representative of the entire population.\n",
    "\n",
    "Adapted from: http://statsthinking21.org/sampling.html"
   ]
  },
  {
   "attachments": {},
   "cell_type": "markdown",
   "metadata": {},
   "source": [
    "### Back to the anchovy data example: distribution of means\n",
    "\n",
    "<img src=\"images/trawl_pdf_mean_dist.png\" style=\"float: right;\" width=\"50%\">\n",
    "\n",
    "\n",
    "**Blue bars**: distribution of 1000 different sample means ($\\bar{x}$), with N = 100 samples each \n",
    "\n",
    "Mean of $\\bar{x}$ = 15.346 g\n",
    "Std. dev. of $\\bar{x}$ = 0.933 g\n",
    "\n",
    "**Orange curve**: normal distribution \n",
    "  \n",
    "$\\mu{}$ = 15.327 g (mean of full data set)\n",
    "\n",
    "$\\frac{\\sigma}{\\sqrt{N}}$ = 0.971 g (std. dev. of full data set / √100)\n",
    "      \n",
    "      "
   ]
  },
  {
   "attachments": {},
   "cell_type": "markdown",
   "metadata": {},
   "source": [
    "### Anchovy data: distribution of means (zoomed in)\n",
    "\n",
    "<img src=\"images/trawl_pdf_mean_dist_zoomed.png\" style=\"float: right;\" width=\"50%\">\n",
    "\n",
    "\n",
    "#### Blue bars: distribution of 106 different sample means ($\\bar{x}$), with N = 100 samples each \n",
    "\n",
    "Mean of $\\bar{x}$ = 15.358 g\n",
    "Std. dev. of $\\bar{x}$ = 0.822 g\n",
    "\n",
    "#### Orange curve: normal distribution \n",
    "  \n",
    "$\\mu{}$ = 15.327 g (mean of full data set)\n",
    "\n",
    "$\\frac{\\sigma}{\\sqrt{N}}$ = 0.971 g (std. dev. of full data set / √100)\n",
    "\n",
    "This is a consequence of the central limit theorem."
   ]
  },
  {
   "attachments": {},
   "cell_type": "markdown",
   "metadata": {},
   "source": [
    "### The Central Limit Theorem\n",
    "\n",
    "The __central limit theorem__ states that no matter what the probability distribution of parent population is, the _mean of the means_ drawn from the same population is normally distributed for large sample sizes. As $N$ approaches infinity,\n",
    "\n",
    "mean$(\\bar{x}) \\rightarrow \\mu$ (the mean of the sample means approaches the true mean)\n",
    "\n",
    "std$(\\bar{x}) \\rightarrow \\frac{\\sigma}{\\sqrt{N}}$ (the standard deviation of the sample means approaches the true standard error)\n",
    "\n",
    "The important consequence of this theorem is that if you collect enough samples, the sample mean will always provide an unbiased estimate of the true mean and you can calculate confidence intervals with the formulas above.\n",
    "\n",
    "However, if you have too few samples, the sample mean will provide a _biased_ estimate.\n",
    "\n",
    "Some examples of situation where the central limit theorem is applied:\n",
    "\n",
    "* Radiochemists study discrete decay events, which follow a Poisson distribution. A few samples will give a biased estimate of the mean rate of radioactive decay. If enough samples are collected, the sample mean and 95% confidence intervals can be calculated using the formulas described above.\n",
    "\n",
    "\n",
    "* Physical oceanographers routinely take advantage of the central limit theorem when using observations of pressure or velocity measurements to study processes with time scales much longer than individual waves. The probability distribution of a wavy sea surface is not normal at all, but by collecting many samples (a.k.a. and ensemble) over a period of ~10-20 minutes we can effectively \"average out\" the waves and be confident in the mean of that ensemble. \n",
    "\n",
    "When sampling a noisy environment and ensemble averaging, oceanographers must be careful to choose an ensemble that is long enough to collect enough samples, but not so long that the statistics are changing significantly over longer time scales. If statistics are robust regardless, of the sampling duration, the process is said to be __stationary__. \n",
    "\n",
    "\\*Adapted from: http://statsthinking21.org/sampling.html\n",
    "\n"
   ]
  },
  {
   "attachments": {},
   "cell_type": "markdown",
   "metadata": {},
   "source": [
    "### Central limit theorem (in other words)\n",
    "\n",
    "The distribution of an average tends to be Normal, even when the distribution from which the average is computed is decidedly non-Normal. \n",
    "\n",
    "http://www.statisticalengineering.com/central_limit_theorem.htm\n",
    "\n",
    "The amazing and counter-intuitive thing about the central limit theorem is that no matter what the shape of the original distribution, the sampling distribution of the mean approaches a normal distribution. Furthermore, for most distributions, a normal distribution is approached very quickly as N increases. \n",
    "\n",
    "http://davidmlane.com/hyperstat/A14043.html"
   ]
  },
  {
   "attachments": {},
   "cell_type": "markdown",
   "metadata": {},
   "source": [
    "### Central limit theorem - applications\n",
    "\n",
    "<img src=\"images/clt_application.png\" style=\"float: left;\" width=\"50%\">\n",
    "\n",
    "This distribution is skewed, but there are hundreds of samples\n",
    "\n",
    "The 95% confidence interval for the mean can still be estimated as\n",
    "\n",
    "\n",
    "$\\bar{x}$ ±1.96 $\\frac{𝑠}{√𝑁}$\n",
    "\n",
    "With very few samples, the mean would not only be uncertain, but also biased\n",
    "\n",
    "\\*https://onlinecourses.science.psu.edu/stat414/node/261"
   ]
  },
  {
   "attachments": {},
   "cell_type": "markdown",
   "metadata": {},
   "source": [
    "### Central limit theorem – dice example\n",
    "#### if we start to get more samples, we start to get more of a peak in the distribution\n",
    "<img src=\"images/clt_dice_ex.png\" style=\"float: right;\" width=\"100%\">\n",
    "\n",
    "\n"
   ]
  },
  {
   "attachments": {},
   "cell_type": "markdown",
   "metadata": {},
   "source": [
    "\n",
    "### The *z* Distribution\n",
    "\n",
    "\n",
    "<img src=\"images/zdist_example.png\" style=\"float: left;\" width=\"40%\">\n",
    "\n",
    "\n",
    "* According to the central limit theorem, sample means ($\\bar{x}$) are normally distributed for large N.  \n",
    "* This gives you data that is standardized in a way that if we take  z-scores of the sample means ($\\bar{x}$),  95% of them should fall in the range:\n",
    "\n",
    "\t\t-1.96 < z < 1.96\n",
    "        \n",
    "* This is the basis for forming 95% confidence intervals        "
   ]
  },
  {
   "attachments": {},
   "cell_type": "markdown",
   "metadata": {},
   "source": [
    "\n",
    "\n",
    "<img src=\"images/trawl_pdf_mean_dist_zoomed.png\" style=\"float: right;\" width=\"50%\">\n",
    "\n",
    "### Confidence intervals for the mean\n",
    "\n",
    "$𝐶𝐼_{95\\%} = \\bar{x} ±1.96 ∗𝑆𝐸$, where SE is the standard error $\\frac{S}{\\sqrt{N}}$\n",
    "\n",
    "* With large enough sampling size N, the 95% confidence interval will contain the true population mean 95% of the time.*\n",
    "\n",
    "#### Common misinterpretation of confidence intervals*:\n",
    "\n",
    "“There is a 95% chance that the population mean falls within the interval.”\n",
    "\n",
    "What is wrong with this statement, and how does it differ from the correct interpretation?\n",
    "* In the case of confidence intervals, we can't interpret them in this wasy because the population parameter has a fixed value -  it is or it isn't in the interval\n",
    "\n",
    "* It is the *sample mean* that has a probability of falling within the confidence intervals, not the *true mean*\n",
    "\n",
    "\n",
    "\\*Adapted from: http://statsthinking21.org/sampling.html\n"
   ]
  },
  {
   "cell_type": "markdown",
   "metadata": {},
   "source": [
    "\n"
   ]
  }
 ],
 "metadata": {
  "anaconda-cloud": {},
  "kernelspec": {
   "display_name": "Python 3",
   "language": "python",
   "name": "python3"
  },
  "language_info": {
   "codemirror_mode": {
    "name": "ipython",
    "version": 3
   },
   "file_extension": ".py",
   "mimetype": "text/x-python",
   "name": "python",
   "nbconvert_exporter": "python",
   "pygments_lexer": "ipython3",
   "version": "3.7.4"
  }
 },
 "nbformat": 4,
 "nbformat_minor": 4
}
