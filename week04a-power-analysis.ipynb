{
 "cells": [
  {
   "cell_type": "markdown",
   "metadata": {},
   "source": [
    "## Power analysis"
   ]
  },
  {
   "cell_type": "markdown",
   "metadata": {},
   "source": [
    "Statistical power describes the probability of correctly accepting the null hypothesis, if it is false. A conventional target power is $(1 -  \\beta) = 0.8$. This means that if the null hypothesis is false, there is a probability $\\beta$ = 0.2 (one out of five chance) that the null hypothesis will be accepted incorrectly (Type II error). This would mean incorrectly inferring that there is no difference between two sets of samples.\n",
    "\n",
    "Statistical power and confidence levels are not independent. The confidence level for accepting or rejecting a null hypothesis is one of the primary factors that determined statistical power.\n",
    "\n",
    "Power analysis can be useful for studies that inform management decisions, in which avoiding a Type II error might be a \"conservative\" action. For example, a Type II error in a study on the effect of pollution on abundance of an organism at two sites (pristine and disturbed) might mean \"incorrectly\" protecting habitat. The accepted level of risk of a Type II error in this case might vary between environmental and industry stakeholders.\n",
    "\n",
    "Power analysis is also useful _before_ conducting an experiment. It can help you determine how many samples you need to observe a certain effect with a statistical test. The effect that you want to observe might be determined by the resolution of your instrument, or what you think might be important in an ecological sense. Remember that determining a significant difference between two sets of samples does not mean that the difference is important.\n",
    "\n",
    "There are four ingredients in a power analysis. If three are known, than the fourth can be calculated.\n",
    "\n",
    "* Effect Size: $d = \\frac{|\\mu_1 - \\mu_2 |} {\\sigma} $\n",
    "    * d=0.2 \"small\"\n",
    "    * d=0.8 \"large\"\n",
    "* Sample size: $N$\n",
    "* Confidence Level: (1-$\\alpha$)\n",
    "* Target Power: (1-$\\beta$)"
   ]
  },
  {
   "cell_type": "markdown",
   "metadata": {},
   "source": [
    "#### Resources for calculating power\n",
    "\n",
    "Online visualization (for one-sample z-test only):\n",
    "\n",
    "http://rpsychologist.com/d3/NHST/\n",
    "\n",
    "\n",
    "Online power calculator (for many different statistical tests):\n",
    "\n",
    "http://webpower.psychstat.org/wiki/\n",
    "\n",
    "G* power:\n",
    "\n",
    "http://www.gpower.hhu.de/en.html\n",
    "\n",
    "Python http://jpktd.blogspot.com/2013/03/statistical-power-in-statsmodels.html"
   ]
  },
  {
   "cell_type": "markdown",
   "metadata": {},
   "source": [
    "#### Example: detecting small differences with a noisy instrument \n",
    "* Want to be able to measure a differences of 2 $\\mu$M\n",
    "* instrument noise = 5 $\\mu$M\n",
    "* Significance level: $\\alpha$ = 0.05\n",
    "* Power: 1- $\\beta$ = 0.8\n",
    "\n",
    "_How many of samples do we need to detect this difference?_\n",
    "\n",
    "In this case, the effect size can be thought of as the absolute difference of 2uM, relative to the standard deviation (noise level) of 5uM. The effect size $d = $ 0.4."
   ]
  },
  {
   "cell_type": "code",
   "execution_count": 9,
   "metadata": {},
   "outputs": [
    {
     "name": "stdout",
     "output_type": "stream",
     "text": [
      "N =  51.009\n"
     ]
    }
   ],
   "source": [
    "from statsmodels.stats import power\n",
    "nobs = power.tt_solve_power(power=0.8,alpha=0.05,effect_size=0.4)\n",
    "print('N = ',round(nobs,3))"
   ]
  },
  {
   "cell_type": "markdown",
   "metadata": {},
   "source": [
    "If the actual difference is 2uM, then we will get a significant difference 80% of the time with $N = $ 51. This example is for a one-sample t-test, but other functions in the `power` library can be used for other statistical tests."
   ]
  },
  {
   "cell_type": "code",
   "execution_count": 10,
   "metadata": {},
   "outputs": [
    {
     "data": {
      "text/plain": [
       "['FTestAnovaPower',\n",
       " 'FTestPower',\n",
       " 'GofChisquarePower',\n",
       " 'NormalIndPower',\n",
       " 'Power',\n",
       " 'TTestIndPower',\n",
       " 'TTestPower',\n",
       " '_GofChisquareIndPower',\n",
       " '__builtins__',\n",
       " '__cached__',\n",
       " '__doc__',\n",
       " '__file__',\n",
       " '__loader__',\n",
       " '__name__',\n",
       " '__package__',\n",
       " '__spec__',\n",
       " 'brentq_expanding',\n",
       " 'ftest_anova_power',\n",
       " 'ftest_power',\n",
       " 'iteritems',\n",
       " 'normal_power',\n",
       " 'np',\n",
       " 'optimize',\n",
       " 'print_function',\n",
       " 'stats',\n",
       " 'tt_ind_solve_power',\n",
       " 'tt_solve_power',\n",
       " 'ttest_power',\n",
       " 'zt_ind_solve_power']"
      ]
     },
     "execution_count": 10,
     "metadata": {},
     "output_type": "execute_result"
    }
   ],
   "source": [
    "dir(power) # List all the functions in the power library "
   ]
  }
 ],
 "metadata": {
  "kernelspec": {
   "display_name": "Python 3",
   "language": "python",
   "name": "python3"
  },
  "language_info": {
   "codemirror_mode": {
    "name": "ipython",
    "version": 3
   },
   "file_extension": ".py",
   "mimetype": "text/x-python",
   "name": "python",
   "nbconvert_exporter": "python",
   "pygments_lexer": "ipython3",
   "version": "3.5.5"
  }
 },
 "nbformat": 4,
 "nbformat_minor": 4
}
