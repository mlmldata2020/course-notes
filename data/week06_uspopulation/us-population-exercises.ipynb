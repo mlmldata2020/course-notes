{
 "cells": [
  {
   "cell_type": "markdown",
   "metadata": {},
   "source": [
    "## In class exercises - MS 263\n",
    "### March 13, 2018 - Exponential population growth\n",
    "\n",
    "The data file [us-population.txt](us-population.txt) contains population data for the US in increments of decades between 1790 and 1990. The following code loads the data and creates two variabes: `t` (number of years since 1790) and `pop` (the population in thousands of people)."
   ]
  },
  {
   "cell_type": "code",
   "execution_count": 9,
   "metadata": {},
   "outputs": [],
   "source": [
    "%matplotlib notebook\n",
    "import numpy as np\n",
    "import pandas as pd\n",
    "import matplotlib.pyplot as plt\n",
    "from scipy import stats\n",
    "\n",
    "df = pd.read_csv('us-population.txt',header=2)\n",
    "t = np.array(df['YR'] - 1790) # time since 1780\n",
    "pop = np.array(df['USPOP']) # US population (in thousands)"
   ]
  },
  {
   "cell_type": "markdown",
   "metadata": {},
   "source": [
    "### 1. Basic plots: raw data and log transformed data\n",
    "\n",
    "a. Plot  US population, $P$ against time since 1780 ($t$).\n",
    "\n",
    "b. Plot the natural log of US population, $\\ln(P)$, against time since 1780 ($t$)."
   ]
  },
  {
   "cell_type": "code",
   "execution_count": null,
   "metadata": {
    "collapsed": true
   },
   "outputs": [],
   "source": []
  },
  {
   "cell_type": "markdown",
   "metadata": {},
   "source": [
    "### 2. Finite difference  derivative calculations\n",
    "\n",
    "Compute the rate of change of population growth, $\\partial P/ \\partial t$, using an $O(\\Delta t^2)$ difference scheme. Use center differences for the interior points, and forward or backward differences for the start and end points of the time series. Use numpy arrays and avoid using a for loop."
   ]
  },
  {
   "cell_type": "code",
   "execution_count": null,
   "metadata": {
    "collapsed": true
   },
   "outputs": [],
   "source": []
  },
  {
   "cell_type": "markdown",
   "metadata": {},
   "source": [
    "### 3. Linear interpolation\n",
    "\n",
    "* Use `numpy.interp` to linearly interpolate the data to annual values.\n",
    "* Use `scipy.interpolate.interp1d` to fit a cubic spline to the data."
   ]
  },
  {
   "cell_type": "code",
   "execution_count": null,
   "metadata": {
    "collapsed": true
   },
   "outputs": [],
   "source": []
  },
  {
   "cell_type": "markdown",
   "metadata": {},
   "source": [
    "### 4. Exponential function\n",
    "\n",
    "Create a Python function called `exponential_growth` that computes the function\n",
    "\n",
    "$$ f(t) = a_1 \\exp(a_2 t) $$\n",
    "\n",
    "for an array of `x` values and single values of parameters $a_1$ and $a_2$."
   ]
  },
  {
   "cell_type": "code",
   "execution_count": 13,
   "metadata": {
    "collapsed": true
   },
   "outputs": [],
   "source": [
    "def exponential_growth(x,a1,a2):\n",
    "    f = a1*np.exp(a2*x)\n",
    "    return f"
   ]
  },
  {
   "cell_type": "markdown",
   "metadata": {},
   "source": [
    "### 5. Exponential fit #1: TLAR method (\"that looks about right\")\n",
    "\n",
    "Manually try combinations of parameter values and use your `exponential_growth` function to plot various exponential curves on top of the data. Repeat until the fit looks about right. Write down all of the parameter combinations that you try out. "
   ]
  },
  {
   "cell_type": "code",
   "execution_count": null,
   "metadata": {
    "collapsed": true
   },
   "outputs": [],
   "source": []
  },
  {
   "cell_type": "markdown",
   "metadata": {},
   "source": [
    "### 6. Exponential fit #2: linear regression of log transformed data\n",
    "\n",
    "* Use `scipy.stats.linregress` to fit a line to the log-tranformed data values, $\\ln(P)$ vs. ($t$). Plot the linear model on top of the log-transformed data values.\n",
    "\n",
    "* Use the parameter values to compute the initial population and specific growth rate. Plot the corresponding exponential fit on top of the data values."
   ]
  },
  {
   "cell_type": "code",
   "execution_count": null,
   "metadata": {},
   "outputs": [],
   "source": []
  },
  {
   "cell_type": "markdown",
   "metadata": {},
   "source": [
    "### 7. Exponential fit #3: non-linear optimization\n",
    "\n",
    "Read the help documentation for the `curve_fit` function, and . The inputs will be some combination of the following:\n",
    "\n",
    "* `pop`\n",
    "* `t`\n",
    "* `exponential_growth`\n",
    "\n",
    "Initial guesses for the parameter values, `p0`, are optional input but highly recommended.\n",
    "\n",
    "The final parameter values are contained in `popt`. The `pcov` matrix contains information about the errors. The diagonals of `pcov` are the standard errors of the parameter estimates. The off-diagonal values are related to the correlation between the errors of the parameters estimates."
   ]
  },
  {
   "cell_type": "code",
   "execution_count": 18,
   "metadata": {},
   "outputs": [],
   "source": [
    "from scipy.optimize import curve_fit\n",
    "\n",
    "popt,pcov = curve_fit(exponential_growth,t,pop,p0=[6000,0.03]) # insert input variables between the parentheses"
   ]
  },
  {
   "cell_type": "markdown",
   "metadata": {
    "collapsed": true
   },
   "source": [
    "### 8. Assessing the different fits\n",
    "\n",
    "Plot the model obtained using `curve_fit` on the data values. Compare the curves given by the three methods. Which gives the best prediction of US population in 2010? "
   ]
  },
  {
   "cell_type": "code",
   "execution_count": 19,
   "metadata": {},
   "outputs": [
    {
     "data": {
      "text/plain": [
       "array([  1.44259672e+04,   1.45465449e-02])"
      ]
     },
     "execution_count": 19,
     "metadata": {},
     "output_type": "execute_result"
    }
   ],
   "source": [
    "popt"
   ]
  },
  {
   "cell_type": "code",
   "execution_count": 20,
   "metadata": {},
   "outputs": [
    {
     "data": {
      "text/plain": [
       "array([[  2.05858111e+06,  -8.05228443e-01],\n",
       "       [ -8.05228443e-01,   3.26107145e-07]])"
      ]
     },
     "execution_count": 20,
     "metadata": {},
     "output_type": "execute_result"
    }
   ],
   "source": [
    "pcov"
   ]
  },
  {
   "cell_type": "code",
   "execution_count": null,
   "metadata": {
    "collapsed": true
   },
   "outputs": [],
   "source": []
  }
 ],
 "metadata": {
  "anaconda-cloud": {},
  "kernelspec": {
   "display_name": "Python [conda root]",
   "language": "python",
   "name": "conda-root-py"
  },
  "language_info": {
   "codemirror_mode": {
    "name": "ipython",
    "version": 3
   },
   "file_extension": ".py",
   "mimetype": "text/x-python",
   "name": "python",
   "nbconvert_exporter": "python",
   "pygments_lexer": "ipython3",
   "version": "3.5.2"
  }
 },
 "nbformat": 4,
 "nbformat_minor": 1
}
