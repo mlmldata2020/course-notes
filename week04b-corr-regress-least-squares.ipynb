{
 "cells": [
  {
   "cell_type": "markdown",
   "metadata": {},
   "source": [
    "## Week 4 \n",
    "\n",
    "### Correlation and linear regression"
   ]
  },
  {
   "cell_type": "markdown",
   "metadata": {},
   "source": [
    "### Correlation\n",
    "\n",
    "#### Correlation $\\neq$ Causation ####\n",
    "\n",
    "<img src='images/everest.png' width=\"500\">\n"
   ]
  },
  {
   "cell_type": "markdown",
   "metadata": {},
   "source": [
    "The __variance__ $s_x^2$ has to be positive.\n",
    "\n",
    "### $$ s_x^2 = \\frac{1}{N-1}\\sum_{i=1}^N (x_i - \\bar{x})(x_i - \\bar{x}) $$ ###\n",
    "\n",
    "The __covariance__ $s_{xy}^2$ can be positive or negative.\n",
    "\n",
    "### $$ s_{xy}^2 = \\frac{1}{N-1}\\sum_{i=1}^N (x_i - \\bar{x})(y_i - \\bar{y}) $$ ###\n",
    "\n",
    "The _Pearson correlation coefficient_ is the normalized covariance between two variables.\n",
    "\n",
    "### $$ r_{xy} = \\frac{s_{xy}^2}{s_x s_y} $$ ###\n",
    "\n"
   ]
  },
  {
   "cell_type": "markdown",
   "metadata": {},
   "source": [
    "__ Varying degrees of correlation __\n",
    "\n",
    "There may be a pattern in the data, but a linear model may not be appropriate.\n",
    "\n",
    "<img src='images/correlation_cases2.png' width=\"600\">\n",
    "\n",
    "[source](http://wikipedia.org/wiki/Correlation_and_dependence)"
   ]
  },
  {
   "cell_type": "markdown",
   "metadata": {},
   "source": [
    "Parametric statistic (like Pearson's correlation are sensitive to outliers. For example, two radnomly generated sets of numbers might have a very low correlation coefficent, as shown below."
   ]
  },
  {
   "cell_type": "code",
   "execution_count": 1,
   "metadata": {},
   "outputs": [
    {
     "data": {
      "text/plain": [
       "Text(0.5,1,'r = 0.035')"
      ]
     },
     "execution_count": 1,
     "metadata": {},
     "output_type": "execute_result"
    }
   ],
   "source": [
    "import numpy as np\n",
    "from scipy import stats\n",
    "from matplotlib import pyplot as plt\n",
    "\n",
    "np.random.seed(437)\n",
    "x = np.random.normal(1,1,20)\n",
    "y = np.random.normal(2,2,20)\n",
    "\n",
    "r = stats.pearsonr(x,y)\n",
    "\n",
    "plt.figure()\n",
    "plt.plot(x,y,'o')\n",
    "plt.title('r = '+str(round(r[0],3)))"
   ]
  },
  {
   "cell_type": "markdown",
   "metadata": {},
   "source": [
    "However, adding an outlier to this data set greatly inflates the correlation coefficient (to nearly 1)."
   ]
  },
  {
   "cell_type": "code",
   "execution_count": 2,
   "metadata": {},
   "outputs": [
    {
     "data": {
      "text/plain": [
       "Text(0.5,1,'r = 0.96')"
      ]
     },
     "execution_count": 2,
     "metadata": {},
     "output_type": "execute_result"
    },
    {
     "data": {
      "image/png": "[encoded data removed]",
      "text/plain": [
       "<Figure size 432x288 with 1 Axes>"
      ]
     },
     "metadata": {},
     "output_type": "display_data"
    }
   ],
   "source": [
    "xo = np.append(x,45)\n",
    "yo = np.append(y,32)\n",
    "\n",
    "ro = stats.pearsonr(xo,yo)\n",
    "\n",
    "plt.figure()\n",
    "plt.plot(xo,yo,'o')\n",
    "plt.title('r = '+str(round(ro[0],3)))"
   ]
  },
  {
   "cell_type": "markdown",
   "metadata": {},
   "source": [
    "#### Testing significance of linear correlation\n",
    "\n",
    "The following test statistic, will follow a t distribution for randomly generated sets of data.\n",
    "\n",
    "$$ t = |r|\\frac{\\sqrt{N-2}}{\\sqrt{1-r^2}} $$ \n",
    "\n",
    "To test for significant at confidence level $1-\\alpha$, calculate a t statistic and compare with a critical t value $t_{\\nu,1-\\alpha/2} $, where $ \\nu = N-2 $ is the degrees of freedom. The degrees of freedom is $N-2$ because you can always draw a line through two data points. Three data points are needed to obatin one independent piece of information."
   ]
  },
  {
   "cell_type": "markdown",
   "metadata": {},
   "source": [
    "#### Spearman's correlation coefficient\n",
    "\n",
    "Non-parametric test for rank-ordered correlation.\n",
    "\n",
    "- Test for a relationship between the rank-ordered data (lowest variable in x corresponds to lowest variable in y, highest variable in x corresponds to highest variable in y, etc.)\n",
    "\n",
    "- $\\rho$ = 1 if  y increases __monotonically__ with x"
   ]
  },
  {
   "cell_type": "code",
   "execution_count": 10,
   "metadata": {},
   "outputs": [
    {
     "data": {
      "image/png": "[encoded data removed]",
      "text/plain": [
       "<Figure size 432x288 with 3 Axes>"
      ]
     },
     "metadata": {},
     "output_type": "display_data"
    }
   ],
   "source": [
    "x = np.arange(0,20,0.5)\n",
    "y1 = np.arctan(x)\n",
    "y2 = np.arctan(x)+np.random.normal(0,0.1,len(x))\n",
    "y3 = -np.arctan(x)+np.random.normal(0,0.6,len(x))\n",
    "\n",
    "rho1,p1 = stats.spearmanr(x,y1)\n",
    "rho2,p2 = stats.spearmanr(x,y2)\n",
    "rho3,p3 = stats.spearmanr(x,y3)\n",
    "\n",
    "plt.figure()\n",
    "plt.subplot(1,3,1)\n",
    "plt.plot(x,y1,'.')\n",
    "plt.title('rho = '+str(round(rho1,3))+'\\n p = '+str(round(p1,3)))\n",
    "\n",
    "plt.subplot(1,3,2)\n",
    "plt.plot(x,y2,'.')\n",
    "plt.title('rho = '+str(round(rho2,3))+'\\n p = '+str(round(p2,4)))\n",
    "\n",
    "plt.subplot(1,3,3)\n",
    "plt.plot(x,y3,'.')\n",
    "plt.title('rho = '+str(round(rho3,3))+'\\n p = '+str(round(p3,4)));"
   ]
  },
  {
   "cell_type": "markdown",
   "metadata": {},
   "source": [
    "Spearman's correlation coefficient is not useful for relationships like those below because they are not monotonic relationships.\n",
    "\n",
    "<img src='images/bad_rank.png' width=\"600\">\n",
    "[source: jpktd.blogspot.com](http://jpktd.blogspot.com/2012/06/non-linear-dependence-measures-distance.html)"
   ]
  },
  {
   "cell_type": "markdown",
   "metadata": {},
   "source": [
    "__ Test Cases __\n",
    "\n",
    "<img src='images/test_cases.png' width=\"800\">\n",
    "\n",
    "\n",
    "Make sure that if you are using a non-parametric test, that you know what the hypothesis is. For example, Mann-Whitney and Kruskal-Wallis test for differences between _medians_, not means. If performing a t-test on log transformed data, the null hypothesis is no difference between _geometric means_ (G.M.)\n",
    "\n",
    "$ G.M. = \\sqrt[n]{x_i \\times x_2  ... x_n } $\n",
    "\n"
   ]
  },
  {
   "cell_type": "markdown",
   "metadata": {},
   "source": [
    "### Linear regression (Type I) ###"
   ]
  },
  {
   "cell_type": "markdown",
   "metadata": {},
   "source": [
    "__Type I regression minimizes the variance along one axis__\n",
    "- x is the independent variable\n",
    "- y is the dependent variable"
   ]
  },
  {
   "cell_type": "code",
   "execution_count": 4,
   "metadata": {},
   "outputs": [
    {
     "data": {
      "text/plain": [
       "(0, 7)"
      ]
     },
     "execution_count": 4,
     "metadata": {},
     "output_type": "execute_result"
    },
    {
     "data": {
      "image/png": "[encoded data removed]",
      "text/plain": [
       "<Figure size 432x288 with 1 Axes>"
      ]
     },
     "metadata": {},
     "output_type": "display_data"
    }
   ],
   "source": [
    "x = np.array([2,3,3.5,4.5,5])\n",
    "y = np.array([3,2,5,4,6])\n",
    "\n",
    "slope,intercept,r,p,se = stats.linregress(x,y)\n",
    "\n",
    "plt.figure()\n",
    "plt.plot(x,y,'bo',ms=10)\n",
    "plt.plot(np.array([0,7]),slope*np.array([0,7])+intercept,'r-',lw=3)\n",
    "for xp,yp in zip(x,y):\n",
    "    plt.plot([xp,xp],[yp,slope*xp+intercept],'b')\n",
    "plt.xlim([0,7])\n",
    "plt.ylim([0,7])"
   ]
  },
  {
   "cell_type": "markdown",
   "metadata": {},
   "source": [
    "Type I regression assumes that the x variable is exactly known (error free)\n",
    "\n",
    "```python\n",
    "from scipy import stats\n",
    "help(stats.linregress)\n",
    "```\n",
    "\n",
    "Examples of (nearly) error free measurements:\n",
    "- Time\n",
    "- Chemical standard (when compared to an error-prone sensor)\n",
    "- Distance\n",
    "\n",
    "__Typr 1 regression minimizes the sum of square error__\n",
    "\n",
    "Be careful when choosing a subset!\n",
    "\n",
    "<img src='images/temperature_trends_short_vs_long.png' width=\"500\">\n",
    "\n",
    "_source_: Walsh, J., et al. (11 January 2013), “Figure 6: Short-term Variations Versus Long-term Trend, in: D. Is the global temperature still increasing? Isn’t there recent evidence that it is actually 1 cooling?, in: Appendix I: NCA Climate Science - Addressing Commonly Asked Questions from A to Z”, in Federal Advisory Committee Draft Climate Assessment. A report by the National Climate Assessment Development Advisory Committee (NCADAC)[1], Washington, DC, USA: U.S. Global Change Research Program, p.1065.\n",
    "\n",
    "__Linear Regression Assumptions__\n",
    "\n",
    "* Validity of linear model\n",
    "\n",
    "* Constant variance: same variance regardless of x value (homoscdastic)\n",
    "\n",
    "* Independence of errors (errors are uncorrelated)\n",
    "\n",
    "Anscombe's quartet shows data sets with the same mean and standard deviation in both variables, as well as the same regression line.\n",
    "\n",
    "The code for this example comes from:\n",
    "http://matplotlib.org/examples/pylab_examples/anscombe.html"
   ]
  },
  {
   "cell_type": "code",
   "execution_count": 5,
   "metadata": {},
   "outputs": [
    {
     "data": {
      "text/plain": [
       "Text(3,12,'IV')"
      ]
     },
     "execution_count": 5,
     "metadata": {},
     "output_type": "execute_result"
    },
    {
     "data": {
      "image/png": "[encoded data removed]",
      "text/plain": [
       "<Figure size 432x288 with 4 Axes>"
      ]
     },
     "metadata": {},
     "output_type": "display_data"
    }
   ],
   "source": [
    "x = np.array([10, 8, 13, 9, 11, 14, 6, 4, 12, 7, 5])\n",
    "y1 = np.array([8.04, 6.95, 7.58, 8.81, 8.33, 9.96, 7.24, 4.26, 10.84, 4.82, 5.68])\n",
    "y2 = np.array([9.14, 8.14, 8.74, 8.77, 9.26, 8.10, 6.13, 3.10, 9.13, 7.26, 4.74])\n",
    "y3 = np.array([7.46, 6.77, 12.74, 7.11, 7.81, 8.84, 6.08, 5.39, 8.15, 6.42, 5.73])\n",
    "x4 = np.array([8, 8, 8, 8, 8, 8, 8, 19, 8, 8, 8])\n",
    "y4 = np.array([6.58, 5.76, 7.71, 8.84, 8.47, 7.04, 5.25, 12.50, 5.56, 7.91, 6.89])\n",
    "\n",
    "def fit(x):\n",
    "    return 3 + 0.5*x\n",
    "\n",
    "xfit = np.array([np.amin(x), np.amax(x)])\n",
    "\n",
    "plt.figure()\n",
    "plt.subplot(221)\n",
    "plt.plot(x, y1, 'ks', xfit, fit(xfit), 'r-', lw=2)\n",
    "plt.axis([2, 20, 2, 14])\n",
    "plt.setp(plt.gca(), xticklabels=[], yticks=(4, 8, 12), xticks=(0, 10, 20))\n",
    "plt.text(3, 12, 'I', fontsize=20)\n",
    "\n",
    "plt.subplot(222)\n",
    "plt.plot(x, y2, 'ks', xfit, fit(xfit), 'r-', lw=2)\n",
    "plt.axis([2, 20, 2, 14])\n",
    "plt.setp(plt.gca(), xticklabels=[], yticks=(4, 8, 12), yticklabels=[], xticks=(0, 10, 20))\n",
    "plt.text(3, 12, 'II', fontsize=20)\n",
    "\n",
    "plt.subplot(223)\n",
    "plt.plot(x, y3, 'ks', xfit, fit(xfit), 'r-', lw=2)\n",
    "plt.axis([2, 20, 2, 14])\n",
    "plt.text(3, 12, 'III', fontsize=20)\n",
    "plt.setp(plt.gca(), yticks=(4, 8, 12), xticks=(0, 10, 20))\n",
    "\n",
    "plt.subplot(224)\n",
    "xfit = np.array([np.amin(x4), np.amax(x4)])\n",
    "plt.plot(x4, y4, 'ks', xfit, fit(xfit), 'r-', lw=2)\n",
    "plt.axis([2, 20, 2, 14])\n",
    "plt.setp(plt.gca(), yticklabels=[], yticks=(4, 8, 12), xticks=(0, 10, 20))\n",
    "plt.text(3, 12, 'IV', fontsize=20)"
   ]
  },
  {
   "cell_type": "markdown",
   "metadata": {},
   "source": [
    "\n",
    "\n",
    "<img src='images/hetero.png' width=\"500\">\n",
    "\n",
    "[source:Wikipedia](https://en.wikipedia.org/wiki/Heteroscedasticity)"
   ]
  },
  {
   "cell_type": "markdown",
   "metadata": {},
   "source": [
    "__Minimizing the sum of squared errors, SSE__\n",
    "\n",
    "The goal of any \"least squares\" regression is to minimize the sum of squared errors.\n",
    "\n",
    "$$SSE  = \\sum_{i=1} ^N (y_i - \\hat{y_i})^2  $$ \n",
    "\n",
    "Where:\n",
    "* $y_i$ is the y value of the data point\n",
    "* $\\hat{y_i}$ is  the y value predicted by the linear model (i.e. the y position of the line at the same x position as the data)\n",
    "* $(y_i - \\hat{y_i})^2$ is the squared error\n",
    "\n",
    "On an $x$-$y$ plot, the SSE can be thought of the sum of the vertical distances between the data values $y_i$ and the corresponding model values $\\hat{y}_i$.\n",
    "\n",
    "__Regression slope__\n",
    "\n",
    "The regression slope depends on the covariance $s_{xy}^2$ and the variance $s_x^2$.\n",
    "\n",
    "$$ \\hat{a}_2 = \\frac{s_{xy}^2}{s_x^2} = \\frac{ \\sum_{i=1} ^N (x_i - \\bar{x})(y_i - \\bar{y})}{\\sum_{i=1} ^N (x_i - \\bar{x})^2} $$\n",
    "\n",
    "The regression slope can also be throught of as scaling the correlation coefficient by the standard deviations $s_y$ and $s_x$.\n",
    "\n",
    "$$ \\hat{a}_2 = \\frac{s_{xy}^2}{s_x^2} = r_{xy}\\frac{s_y}{s_x}$$\n",
    "\n",
    "Either way, the slope depends on both the spread of the data and the degree to which $x$ and $y$ covary. If the correlation between $x$ and $y$ is zero, the least squares regression line is flat. The regression line can have a steep slope if there is a strong correlation between $x$ and $y$, and the standard deviation of $y$ is large relative to the standard deviation of $x$.\n",
    "\n",
    "__Regression Intercept__\n",
    "\n",
    "The least squares regression line is guaranteed to go through the mean values of $x$ and $y$. This property can be used to find the intercept of the regression line.\n",
    "\n",
    "$$ \\hat{a}_1 = \\bar{y} - \\hat{a}_2\\bar{x} $$\n",
    "\n",
    "__Standard error of the estimate__\n",
    "\n",
    "The standard error of the estimate is a measure of the goodness of fit of the model. It depends on the sum of squared errors, which is minimized in least squares regression, as well as the degrees of freedom $\\nu = N - 2$.\n",
    "\n",
    "$$ s_e = \\left( \\frac{SSE}{N-2} \\right)^{1/2} $$\n",
    "\n",
    "Note that this is different from the standard error of the data, $SE_x = s_x/\\sqrt{N}$, which was used earlier to describe how well the mean of a variable $x$ is known.\n",
    "\n",
    "__Standard error of the regression slope__\n",
    "\n",
    "The standard error of the regression slope (sometimes called the standard error of the gradient) describes how well $a_2$ is known. It depends on the standard error of the estimate, and the variance in $x$.\n",
    "\n",
    "$$s_{a_2} = \\sqrt{\\frac{s_e^2}{\\sum_{i=1}^N (x-\\bar{x})^2}}$$\n",
    "\n",
    "Note that the `stderr` result given by the `stats.linregress` function is Python refers to the standard error of the slope, $s_{a_2}$.\n",
    "\n",
    "__Confidence intervals for the regression slope__\n",
    "\n",
    "The standard error of the slope s_{a_2} can be used to calculate confidence intervals for the regression slope. \n",
    "\n",
    "$$ \\hat{a}_2 - t_{\\nu,1 - \\alpha /2} s_{a_2} < a_2 < \\hat{a}_2 + t_{\\nu,1- \\alpha /2} s_{a_2} $$\n",
    "\n",
    "Based on the data, these intervals describe a range in which the true slope $a_2$ is thought to lie. This depends on the estimated slope $\\hat{a}_2$, as well as the degrees of freedom $\\nu$ and significance level $\\alpha$. This is similar to how confidence intervals are calculated for an estimate of the mean, $\\bar{x}$."
   ]
  },
  {
   "cell_type": "markdown",
   "metadata": {},
   "source": [
    "### Linear regression (Type II) ###\n",
    "\n",
    "Case where there are potentially errors in both the x and y variables\n",
    "\n",
    "<img src='images/type_2_reg.png' width=\"700\">\n",
    "Reference for Geometric Mean Function Regression (GMFR, a.k.a. neutral regression)\n",
    "\n",
    "Ricker, W. E. Computation and uses of central trend lines\n",
    "Can. J. Zool., 1984, 62, 1897-1905 \n",
    "\n",
    "__Calculating Geometric Mean Function Regression__\n",
    "\n",
    "- $\\hat{a}_{2yx}$ : slope of regression of y on x\n",
    "- $\\hat{a}_{2xy}$ : slope of regression of y on x\n",
    "- Geometric mean: $ \\hat{a}_{2GM} =   \\sqrt{\\frac {\\hat{a}_{2yx}} {\\hat{a}_{2xy}} }$\n"
   ]
  },
  {
   "cell_type": "markdown",
   "metadata": {},
   "source": [
    "### General Linear Regression - higher order polynomials\n",
    "\n",
    "```python\n",
    "numpy.polyfit\n",
    "```\n",
    "<img src='images/poly_reg.png' width=\"600\">\n",
    "\n",
    "[Source](http://www.turingfinance.com/regression-analysis-using-python-statsmodels-and-quandl/)"
   ]
  },
  {
   "cell_type": "code",
   "execution_count": null,
   "metadata": {
    "collapsed": true
   },
   "outputs": [],
   "source": []
  }
 ],
 "metadata": {
  "anaconda-cloud": {},
  "kernelspec": {
   "display_name": "Python [default]",
   "language": "python",
   "name": "python3"
  },
  "language_info": {
   "codemirror_mode": {
    "name": "ipython",
    "version": 3
   },
   "file_extension": ".py",
   "mimetype": "text/x-python",
   "name": "python",
   "nbconvert_exporter": "python",
   "pygments_lexer": "ipython3",
   "version": "3.5.5"
  }
 },
 "nbformat": 4,
 "nbformat_minor": 2
}
