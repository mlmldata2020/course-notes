{
 "cells": [
  {
   "cell_type": "markdown",
   "metadata": {},
   "source": [
    "## Monterey Bay Kelp PCA\n",
    "\n",
    "This example uses data from the supplementary material of:\n",
    "\n",
    "Graham, M. H. (2003), Confronting multicollinearity in ecological multiple regression. _Ecology_, 84: 2809–2815. doi:10.1890/02-3114 \n",
    "http://onlinelibrary.wiley.com/doi/10.1890/02-3114/abstract\n",
    "\n",
    "The details of observational methods can be found in an earlier paper:\n",
    "\n",
    "Graham, M. H. (1997) Factors determining the upper limit of giant kelp, _Macrocystis pyrifera_ Agardh, along the Monterey Peninsula, central California, USA, _J. Exp. Mar. Bio. Ecol._, 218, 127-149."
   ]
  },
  {
   "cell_type": "code",
   "execution_count": 1,
   "metadata": {},
   "outputs": [],
   "source": [
    "import numpy as np\n",
    "import matplotlib.pyplot as plt\n",
    "from scipy import linalg\n",
    "import pandas as pd"
   ]
  },
  {
   "cell_type": "code",
   "execution_count": 2,
   "metadata": {},
   "outputs": [
    {
     "data": {
      "text/html": [
       "<div>\n",
       "<style scoped>\n",
       "    .dataframe tbody tr th:only-of-type {\n",
       "        vertical-align: middle;\n",
       "    }\n",
       "\n",
       "    .dataframe tbody tr th {\n",
       "        vertical-align: top;\n",
       "    }\n",
       "\n",
       "    .dataframe thead th {\n",
       "        text-align: right;\n",
       "    }\n",
       "</style>\n",
       "<table border=\"1\" class=\"dataframe\">\n",
       "  <thead>\n",
       "    <tr style=\"text-align: right;\">\n",
       "      <th></th>\n",
       "      <th>Response</th>\n",
       "      <th>OD</th>\n",
       "      <th>BD</th>\n",
       "      <th>LTD</th>\n",
       "      <th>W</th>\n",
       "    </tr>\n",
       "  </thead>\n",
       "  <tbody>\n",
       "    <tr>\n",
       "      <th>0</th>\n",
       "      <td>3.241</td>\n",
       "      <td>2.0176</td>\n",
       "      <td>4.87</td>\n",
       "      <td>-0.59</td>\n",
       "      <td>-4.1</td>\n",
       "    </tr>\n",
       "    <tr>\n",
       "      <th>1</th>\n",
       "      <td>3.032</td>\n",
       "      <td>1.9553</td>\n",
       "      <td>4.78</td>\n",
       "      <td>-0.75</td>\n",
       "      <td>4.7</td>\n",
       "    </tr>\n",
       "    <tr>\n",
       "      <th>2</th>\n",
       "      <td>3.100</td>\n",
       "      <td>1.8131</td>\n",
       "      <td>3.14</td>\n",
       "      <td>-0.38</td>\n",
       "      <td>-4.9</td>\n",
       "    </tr>\n",
       "    <tr>\n",
       "      <th>3</th>\n",
       "      <td>3.156</td>\n",
       "      <td>2.5751</td>\n",
       "      <td>3.28</td>\n",
       "      <td>-0.16</td>\n",
       "      <td>-3.2</td>\n",
       "    </tr>\n",
       "    <tr>\n",
       "      <th>4</th>\n",
       "      <td>3.110</td>\n",
       "      <td>2.2589</td>\n",
       "      <td>3.28</td>\n",
       "      <td>0.01</td>\n",
       "      <td>5.6</td>\n",
       "    </tr>\n",
       "  </tbody>\n",
       "</table>\n",
       "</div>"
      ],
      "text/plain": [
       "   Response      OD    BD   LTD    W\n",
       "0     3.241  2.0176  4.87 -0.59 -4.1\n",
       "1     3.032  1.9553  4.78 -0.75  4.7\n",
       "2     3.100  1.8131  3.14 -0.38 -4.9\n",
       "3     3.156  2.5751  3.28 -0.16 -3.2\n",
       "4     3.110  2.2589  3.28  0.01  5.6"
      ]
     },
     "execution_count": 2,
     "metadata": {},
     "output_type": "execute_result"
    }
   ],
   "source": [
    "df = pd.read_csv('data/week07_Graham2003_Kelp/Originaldata.txt',delimiter=' ')\n",
    "df.head()"
   ]
  },
  {
   "cell_type": "markdown",
   "metadata": {},
   "source": [
    "Variables:\n",
    "\n",
    "* Response - shallow (upper) distributional limit of kelp Macrocystis pyrifera [m]\n",
    "* OD - wave orbital displacement [m]\n",
    "* BD - wave breaking depth [m]\n",
    "* LTD - minimum daily tidal height [m]\n",
    "* W - wind velocity [m/s], positive onshore"
   ]
  },
  {
   "cell_type": "code",
   "execution_count": 3,
   "metadata": {},
   "outputs": [
    {
     "data": {
      "text/plain": [
       "Text(0, 0.5, 'depth [m]')"
      ]
     },
     "execution_count": 3,
     "metadata": {},
     "output_type": "execute_result"
    },
    {
     "data": {
      "image/png": "[encoded data removed]",
      "text/plain": [
       "<Figure size 432x288 with 1 Axes>"
      ]
     },
     "metadata": {
      "needs_background": "light"
     },
     "output_type": "display_data"
    }
   ],
   "source": [
    "plt.plot(df.index,df['Response'])\n",
    "plt.title('kelp upper limit')\n",
    "plt.ylabel('depth [m]')"
   ]
  },
  {
   "cell_type": "markdown",
   "metadata": {},
   "source": [
    "#### Exercise\n",
    "\n",
    "* Become familiar with data set, make scatter plots to see which variables have strongest correlation with response (kelp).\n",
    "\n",
    "### Goal of analysis:\n",
    "\n",
    "* Instead of correlating with one variable, we will use PCA to create an \"index\" of common environmental variability.\n",
    "\n",
    "### Step 1: data matrix\n",
    "\n",
    "Put our environmental variables into matrix form. This matrix (which excludes the response variable) has four columns."
   ]
  },
  {
   "cell_type": "code",
   "execution_count": 4,
   "metadata": {},
   "outputs": [
    {
     "name": "stdout",
     "output_type": "stream",
     "text": [
      "[[ 2.0176e+00  4.8700e+00 -5.9000e-01 -4.1000e+00]\n",
      " [ 1.9553e+00  4.7800e+00 -7.5000e-01  4.7000e+00]\n",
      " [ 1.8131e+00  3.1400e+00 -3.8000e-01 -4.9000e+00]\n",
      " [ 2.5751e+00  3.2800e+00 -1.6000e-01 -3.2000e+00]\n",
      " [ 2.2589e+00  3.2800e+00  1.0000e-02  5.6000e+00]\n",
      " [ 2.5448e+00  4.8700e+00 -1.9000e-01  4.1000e+00]\n",
      " [ 2.6291e+00  6.2700e+00 -1.4000e-01  5.3000e+00]\n",
      " [ 3.1553e+00  7.1600e+00 -4.3000e-01  2.3500e+01]\n",
      " [ 3.4030e+00  7.2400e+00 -3.4000e-01  1.3300e+01]\n",
      " [ 2.8150e+00  7.1600e+00 -3.3000e-01 -4.5000e+00]\n",
      " [ 1.9012e+00  4.7800e+00 -2.7000e-01 -4.7000e+00]\n",
      " [ 2.1463e+00  3.2800e+00 -2.0000e-01 -4.6000e+00]\n",
      " [ 2.5851e+00  3.4700e+00 -4.8000e-01 -4.0000e+00]\n",
      " [ 2.0830e+00  3.1400e+00 -2.6000e-01 -2.0000e+00]\n",
      " [ 1.7192e+00  4.7800e+00 -9.0000e-02 -2.8000e+00]\n",
      " [ 3.5471e+00  4.7800e+00 -1.7000e-01  3.5000e+00]\n",
      " [ 3.6720e+00  7.1600e+00 -3.4000e-01  1.3200e+01]\n",
      " [ 4.7259e+00  8.6500e+00 -5.4000e-01  2.0600e+01]\n",
      " [ 3.6039e+00  8.6500e+00 -7.0000e-01  1.4100e+01]\n",
      " [ 4.1214e+00  6.1600e+00 -4.6000e-01  8.3000e+00]\n",
      " [ 3.4940e+00  4.8700e+00 -3.1000e-01  6.8000e+00]\n",
      " [ 3.4829e+00  5.8200e+00 -3.4000e-01 -4.7000e+00]\n",
      " [ 2.0793e+00  3.4700e+00 -4.2000e-01 -3.7000e+00]\n",
      " [ 2.0315e+00  3.1400e+00 -3.7000e-01 -4.4000e+00]\n",
      " [ 1.7356e+00  3.1400e+00 -4.2000e-01 -4.7000e+00]\n",
      " [ 1.4569e+00  3.1400e+00 -2.5000e-01 -4.3000e+00]\n",
      " [ 1.8559e+00  3.2800e+00 -2.0000e-02 -4.4000e+00]\n",
      " [ 2.6173e+00  3.2800e+00 -2.9000e-01  4.6000e+00]\n",
      " [ 2.8782e+00  5.8200e+00 -3.1000e-01  7.6000e+00]\n",
      " [ 2.7842e+00  4.7800e+00 -3.2000e-01  1.7800e+01]\n",
      " [ 3.3236e+00  7.1600e+00 -1.0000e-01 -3.6000e+00]\n",
      " [ 2.8799e+00  3.4700e+00 -9.0000e-02 -3.7000e+00]\n",
      " [ 1.9654e+00  3.4700e+00 -7.0000e-02 -5.0000e+00]\n",
      " [ 1.5116e+00  3.2800e+00 -3.1000e-01 -5.0000e+00]\n",
      " [ 1.7465e+00  3.2800e+00 -3.4000e-01 -4.2000e+00]\n",
      " [ 1.0967e+00  3.1400e+00 -6.0000e-02 -4.4000e+00]\n",
      " [ 2.9802e+00  3.2800e+00 -2.8000e-01  4.1000e+00]\n",
      " [ 3.0644e+00  3.2800e+00 -5.2000e-01  8.5000e+00]]\n"
     ]
    }
   ],
   "source": [
    "data = df.values\n",
    "np.shape(data)\n",
    "env_data = data[:,1:]\n",
    "print(env_data)"
   ]
  },
  {
   "cell_type": "markdown",
   "metadata": {},
   "source": [
    "__Exercise:__ Standardize data by transforming to z-scores\n",
    "\n",
    "Subtract the mean and divide by the standard deviation of each column, giving a standardized variable with zero mean and standard deviation of 1. We do this in order to weight all variables equally. "
   ]
  },
  {
   "cell_type": "code",
   "execution_count": 5,
   "metadata": {},
   "outputs": [
    {
     "name": "stdout",
     "output_type": "stream",
     "text": [
      "mean:  [-5.20051838e-16  1.34395419e-16  1.98671489e-16  4.09029535e-17]\n",
      "std. dev: [1. 1. 1. 1.]\n"
     ]
    }
   ],
   "source": [
    "env_data_norm = (env_data - np.mean(env_data,axis=0))/np.std(env_data,axis=0,ddof=1)\n",
    "print('mean: ',np.mean(env_data_norm,axis=0))\n",
    "print('std. dev:', np.std(env_data_norm,axis=0,ddof=1))"
   ]
  },
  {
   "cell_type": "markdown",
   "metadata": {},
   "source": [
    "## Step 2: correlation (or covariance) matrix\n",
    "Next create the correlation matrix. We can also think of this as the covariance matrix of the standardized variables. If we don't standardize the variables, we end up weighting them differently simply based on how big the numbers are."
   ]
  },
  {
   "cell_type": "code",
   "execution_count": 6,
   "metadata": {},
   "outputs": [],
   "source": [
    "R = np.cov(env_data_norm,rowvar=False) # or could do np.corrcoef"
   ]
  },
  {
   "cell_type": "code",
   "execution_count": 7,
   "metadata": {},
   "outputs": [
    {
     "name": "stdout",
     "output_type": "stream",
     "text": [
      "correlation matrix R:\n",
      "[[ 1.          0.72834006 -0.28090584  0.68143749]\n",
      " [ 0.72834006  1.         -0.33859444  0.63372787]\n",
      " [-0.28090584 -0.33859444  1.         -0.3565089 ]\n",
      " [ 0.68143749  0.63372787 -0.3565089   1.        ]]\n"
     ]
    }
   ],
   "source": [
    "print('correlation matrix R:')\n",
    "print(R)"
   ]
  },
  {
   "cell_type": "markdown",
   "metadata": {},
   "source": [
    "Note that this matrix is symmetric. \n",
    "\n",
    "## Step 3: covariance (or correlation) matrix\n",
    "\n",
    "$ RV = V\\Lambda $\n",
    "\n",
    "The eigenvalues are in the matrix $\\Lambda$ \n",
    "\n",
    "The eigenvectors are in the matrix $V$"
   ]
  },
  {
   "cell_type": "code",
   "execution_count": 8,
   "metadata": {},
   "outputs": [],
   "source": [
    "val,vec = linalg.eig(R)"
   ]
  },
  {
   "cell_type": "code",
   "execution_count": 9,
   "metadata": {},
   "outputs": [
    {
     "name": "stdout",
     "output_type": "stream",
     "text": [
      "[2.56536859+0.j 0.80551944+0.j 0.25828926+0.j 0.37082272+0.j]\n"
     ]
    }
   ],
   "source": [
    "print(val)"
   ]
  },
  {
   "cell_type": "markdown",
   "metadata": {},
   "source": [
    "By default the eignevalues are complex valued - real and imaginary part. Python uses `j` to denote the square root of negative one. In this case there is no imaginary part, and we just want the real part."
   ]
  },
  {
   "cell_type": "code",
   "execution_count": 10,
   "metadata": {},
   "outputs": [
    {
     "name": "stdout",
     "output_type": "stream",
     "text": [
      "eigenvalues:  [2.56536859 0.80551944 0.25828926 0.37082272]\n"
     ]
    }
   ],
   "source": [
    "val = np.real(val)\n",
    "print('eigenvalues: ',val)"
   ]
  },
  {
   "cell_type": "code",
   "execution_count": 11,
   "metadata": {},
   "outputs": [
    {
     "name": "stdout",
     "output_type": "stream",
     "text": [
      "eigenvalue matrix:\n",
      "[[2.56536859 0.         0.         0.        ]\n",
      " [0.         0.80551944 0.         0.        ]\n",
      " [0.         0.         0.25828926 0.        ]\n",
      " [0.         0.         0.         0.37082272]]\n"
     ]
    }
   ],
   "source": [
    "print('eigenvalue matrix:')\n",
    "print(np.diag(val))"
   ]
  },
  {
   "cell_type": "markdown",
   "metadata": {},
   "source": [
    "The eigenvalues are also referred to as the variance explained by each principal component. In this case we are working with the correlation matrix, which means that we have standardized each variable to have a standard deviation of one (and there a variance of one, since the variance is the standard deviation)."
   ]
  },
  {
   "cell_type": "code",
   "execution_count": 12,
   "metadata": {},
   "outputs": [
    {
     "data": {
      "text/plain": [
       "3.999999999999997"
      ]
     },
     "execution_count": 12,
     "metadata": {},
     "output_type": "execute_result"
    }
   ],
   "source": [
    "np.sum(val)"
   ]
  },
  {
   "cell_type": "markdown",
   "metadata": {},
   "source": [
    "__Exercise:__ Find the percentage of total variance explained by each component"
   ]
  },
  {
   "cell_type": "code",
   "execution_count": 13,
   "metadata": {},
   "outputs": [
    {
     "name": "stdout",
     "output_type": "stream",
     "text": [
      "percent of total variance\n",
      "[64.13421463 20.13798595  6.45723148  9.27056795]\n",
      "eigenvectors:\n",
      "[[-0.54799191 -0.29010584  0.76825404 -0.15915149]\n",
      " [-0.545347   -0.17936923 -0.57706165 -0.58088137]\n",
      " [ 0.33846526 -0.93353908 -0.09720099  0.06706729]\n",
      " [-0.53641661 -0.11031802 -0.25949479  0.7954556 ]]\n"
     ]
    }
   ],
   "source": [
    "pctvar=val/np.sum(val)*100\n",
    "print ('percent of total variance')\n",
    "print (pctvar)\n",
    "print('eigenvectors:')\n",
    "print(vec)"
   ]
  },
  {
   "cell_type": "code",
   "execution_count": 14,
   "metadata": {},
   "outputs": [
    {
     "name": "stdout",
     "output_type": "stream",
     "text": [
      "PC1:  [-0.54799191 -0.545347    0.33846526 -0.53641661]\n"
     ]
    }
   ],
   "source": [
    "print('PC1: ', vec[:,0])"
   ]
  },
  {
   "cell_type": "markdown",
   "metadata": {},
   "source": [
    "### Factor loading matrix\n",
    "\n",
    "Eigenvectors times square root of eigenvectors\n",
    "\n",
    "$A = V\\sqrt{\\Lambda}$\n",
    "\n",
    "The columns of this new A matrix are called the factor loadings for each principal component. We can think of new axes for the data in a space defined by waves, wind and tides. The factor loadings define those axes - both the orientation (eigenvector) and the spread of the data across each axis (square root of eigenvalue - which describes the standard deviation)."
   ]
  },
  {
   "cell_type": "code",
   "execution_count": 15,
   "metadata": {},
   "outputs": [
    {
     "name": "stdout",
     "output_type": "stream",
     "text": [
      "[[-0.87770594 -0.26037212  0.39044335 -0.09691564]\n",
      " [-0.87346965 -0.1609852  -0.29327523 -0.35372896]\n",
      " [ 0.54211195 -0.83785818 -0.04939965  0.04084077]\n",
      " [-0.85916604 -0.09901124 -0.13188087  0.4843944 ]]\n"
     ]
    }
   ],
   "source": [
    "A = np.dot(vec,np.diag(val)**0.5) #np.matmul works too\n",
    "print(A)"
   ]
  },
  {
   "cell_type": "code",
   "execution_count": 16,
   "metadata": {},
   "outputs": [
    {
     "name": "stdout",
     "output_type": "stream",
     "text": [
      "PC1 loading:\n",
      "[-0.87770594 -0.87346965  0.54211195 -0.85916604]\n",
      "OD BD LTD W\n"
     ]
    }
   ],
   "source": [
    "print('PC1 loading:')\n",
    "print(A[:,0])\n",
    "print('OD','BD','LTD','W')"
   ]
  },
  {
   "cell_type": "markdown",
   "metadata": {},
   "source": [
    "A common way of visualizing the results of PCA is to plot the factor loadings for the first two principal components (the first two columns of the A matrix). If variables are clumped together, it means that they covary (similar direction with respect to origin), with similar magnitudes (similar distance from origin). \n",
    "\n",
    "This plot can be thought of as viewing the original data axes (which exist in four-dimensional space) from a perspective that is perpendicular to the plane defined by the first two PC's. It is the _projection_ of the original axes onto the 2D plane defined by the first two PCs."
   ]
  },
  {
   "cell_type": "code",
   "execution_count": 17,
   "metadata": {},
   "outputs": [
    {
     "data": {
      "image/png": "[encoded data removed]",
      "text/plain": [
       "<Figure size 432x288 with 1 Axes>"
      ]
     },
     "metadata": {
      "needs_background": "light"
     },
     "output_type": "display_data"
    }
   ],
   "source": [
    "plt.figure()\n",
    "plt.plot(A[:,0],A[:,1],'o')\n",
    "plt.xlim([-1,1])\n",
    "plt.ylim([-1,1])\n",
    "plt.axhline(0,color='black')\n",
    "plt.axvline(0,color='black')\n",
    "plt.xlabel('PC1 loading')\n",
    "plt.ylabel('PC2 loading')\n",
    "\n",
    "variables = ['OD','BD','LTD','W']\n",
    "for i,txt in enumerate(variables):\n",
    "    plt.text(A[i,0],A[i,1],txt)"
   ]
  },
  {
   "cell_type": "markdown",
   "metadata": {},
   "source": [
    "In this case, the two wave variables and wind all covary. Remember, that these variables are standardized so that each one has the same standard deviation."
   ]
  },
  {
   "cell_type": "markdown",
   "metadata": {},
   "source": [
    "### Principal component score\n",
    "This is the projection of each data vector onto new component axes. It is the new variables created from the original data, based on rotating axes. "
   ]
  },
  {
   "cell_type": "code",
   "execution_count": 18,
   "metadata": {},
   "outputs": [],
   "source": [
    "S = np.matmul(env_data_norm,vec)"
   ]
  },
  {
   "cell_type": "code",
   "execution_count": 19,
   "metadata": {},
   "outputs": [
    {
     "name": "stdout",
     "output_type": "stream",
     "text": [
      "[[ 1.91278267e-01  1.75273583e+00 -2.46948300e-01 -6.62789410e-01]\n",
      " [-6.22340919e-01  2.50238735e+00 -4.69006554e-01  1.80910633e-01]\n",
      " [ 1.33268779e+00  9.19047979e-01  5.59006276e-02 -3.36154166e-02]\n",
      " [ 1.08056344e+00 -5.41613865e-01  5.53224530e-01  1.89191065e-02]\n",
      " [ 1.03524778e+00 -1.43816224e+00 -1.18589075e-01  1.00570204e+00]\n",
      " [ 5.45220251e-02 -6.39890470e-01 -2.29372743e-01  1.86955466e-01]\n",
      " [-4.33631190e-01 -1.09496287e+00 -6.88539041e-01 -1.69564103e-01]\n",
      " [-2.82315846e+00 -1.05037123e-01 -9.15867813e-01  1.09664761e+00]\n",
      " [-2.17154607e+00 -5.34307501e-01 -4.32706908e-01  5.68102939e-02]\n",
      " [-5.56858339e-01 -1.27244176e-01 -3.97595465e-01 -1.53902275e+00]\n",
      " [ 9.45167873e-01  1.36947189e-01 -4.81566862e-01 -5.47811246e-01]\n",
      " [ 1.38555547e+00 -1.60518805e-01  2.15225403e-01 -4.93166517e-02]\n",
      " [ 4.58705545e-01  1.12056868e+00  6.98369555e-01 -2.46274578e-01]\n",
      " [ 1.18744346e+00  1.55486808e-01  1.52532393e-01  2.42526080e-01]\n",
      " [ 1.28382551e+00 -7.66108434e-01 -8.11988427e-01 -2.58650517e-01]\n",
      " [-5.13588229e-01 -1.08399672e+00  7.54763464e-01 -2.94795641e-02]\n",
      " [-2.32039386e+00 -6.20365994e-01 -1.48731542e-01  2.16743324e-02]\n",
      " [-4.37319312e+00 -2.05930191e-01  2.14640808e-01 -4.22751069e-02]\n",
      " [-3.49297338e+00  1.11936224e+00 -5.49063057e-01 -5.19201523e-01]\n",
      " [-2.20778195e+00  1.91636365e-02  8.34944418e-01 -2.50536313e-01]\n",
      " [-9.90018487e-01 -3.86572439e-01  6.45215327e-01  2.20539500e-01]\n",
      " [-5.84065686e-01 -1.69338352e-01  6.97123473e-01 -1.23701513e+00]\n",
      " [ 8.93094147e-01  9.82632411e-01  1.78975897e-01 -9.55189045e-02]\n",
      " [ 1.17172120e+00  7.82128647e-01  2.40507056e-01 -2.36091194e-02]\n",
      " [ 1.29573235e+00  1.15329576e+00 -1.79069982e-03 -1.39416152e-02]\n",
      " [ 1.77945535e+00  3.57379491e-01 -3.70098910e-01  1.43582025e-01]\n",
      " [ 1.90932381e+00 -1.00189240e+00 -1.63184887e-01  9.46836699e-02]\n",
      " [ 2.90800188e-01  1.79132876e-02  4.14896836e-01  7.25012801e-01]\n",
      " [-9.31875553e-01 -2.77871566e-01 -2.82258908e-01  9.59740788e-02]\n",
      " [-1.22849213e+00 -2.21217096e-01 -3.39596987e-01  1.46243956e+00]\n",
      " [-5.22005697e-01 -1.52441988e+00 -7.19030651e-02 -1.46386290e+00]\n",
      " [ 9.80621723e-01 -1.02973182e+00  7.54343800e-01 -1.27882528e-01]\n",
      " [ 1.71967499e+00 -7.91018713e-01 -7.77046110e-02 -6.88602180e-02]\n",
      " [ 1.63027002e+00  6.46721558e-01 -3.10772086e-01 -5.78874485e-03]\n",
      " [ 1.36250165e+00  7.09209681e-01 -9.83790387e-02  1.53073764e-02]\n",
      " [ 2.38896008e+00 -5.07398885e-01 -8.10224836e-01  2.75627659e-01]\n",
      " [ 9.85913927e-02 -1.56907500e-01  7.67730237e-01  6.08932878e-01]\n",
      " [-7.03820992e-01  1.00952651e+00  8.37495992e-01  9.32771244e-01]]\n"
     ]
    }
   ],
   "source": [
    "print(S)"
   ]
  },
  {
   "cell_type": "markdown",
   "metadata": {},
   "source": [
    "Looking at the correlation matrix between the principal component scores, we see that each score is completely uncorrelated with the other scores (correlations of ~1e-16, close to zero within numerical roundoff error)."
   ]
  },
  {
   "cell_type": "code",
   "execution_count": 20,
   "metadata": {},
   "outputs": [
    {
     "name": "stdout",
     "output_type": "stream",
     "text": [
      "[[ 1.00000000e+00  2.64451594e-16 -8.07393033e-16  3.90121179e-16]\n",
      " [ 2.64451594e-16  1.00000000e+00 -6.39777672e-17 -2.75053788e-17]\n",
      " [-8.07393033e-16 -6.39777672e-17  1.00000000e+00 -3.07723425e-16]\n",
      " [ 3.90121179e-16 -2.75053788e-17 -3.07723425e-16  1.00000000e+00]]\n"
     ]
    }
   ],
   "source": [
    "print(np.corrcoef(S,rowvar=False))"
   ]
  },
  {
   "cell_type": "code",
   "execution_count": 24,
   "metadata": {},
   "outputs": [
    {
     "data": {
      "image/png": "[encoded data removed]",
      "text/plain": [
       "<Figure size 432x288 with 2 Axes>"
      ]
     },
     "metadata": {
      "needs_background": "light"
     },
     "output_type": "display_data"
    }
   ],
   "source": [
    "plt.figure()\n",
    "plt.subplot(2,1,1)\n",
    "plt.plot(S[:,0])\n",
    "plt.title('PC1 score')\n",
    "plt.subplot(2,1,2)\n",
    "plt.plot(env_data[:,3])\n",
    "plt.title('wind [m/s]')\n",
    "plt.tight_layout()"
   ]
  },
  {
   "cell_type": "code",
   "execution_count": 23,
   "metadata": {},
   "outputs": [
    {
     "data": {
      "image/png": "[encoded data removed]",
      "text/plain": [
       "<Figure size 432x288 with 2 Axes>"
      ]
     },
     "metadata": {
      "needs_background": "light"
     },
     "output_type": "display_data"
    }
   ],
   "source": [
    "plt.figure()\n",
    "plt.subplot(2,1,1)\n",
    "plt.plot(S[:,1])\n",
    "plt.title('PC2 score')\n",
    "plt.subplot(2,1,2)\n",
    "plt.plot(env_data[:,2])\n",
    "plt.title('minimum daily tidal height [m]')\n",
    "plt.tight_layout()"
   ]
  },
  {
   "cell_type": "markdown",
   "metadata": {},
   "source": [
    "The scatter plot of the first two principal component scores shows the data on the same plane onto which we plotted the factor loadings above.\n",
    "\n",
    "Think about this geometrically as taking the original data, defined in 4D space, and looking at those data projected onto a 2D screen. We choose the orientation of the screen so that we can see as much of the variance data, or as much of the spread in the data, as possible.\n",
    "\n",
    "Here, we can visually see that the scores are uncorrelated. There is no evidence of a linear relationship between them."
   ]
  },
  {
   "cell_type": "code",
   "execution_count": 25,
   "metadata": {},
   "outputs": [
    {
     "data": {
      "text/plain": [
       "Text(0.5, 0, 'PC 2')"
      ]
     },
     "execution_count": 25,
     "metadata": {},
     "output_type": "execute_result"
    },
    {
     "data": {
      "image/png": "[encoded data removed]",
      "text/plain": [
       "<Figure size 432x288 with 1 Axes>"
      ]
     },
     "metadata": {
      "needs_background": "light"
     },
     "output_type": "display_data"
    }
   ],
   "source": [
    "plt.figure()\n",
    "plt.plot(S[:,0],S[:,1],'.')\n",
    "plt.xlim([-5,5])\n",
    "plt.ylim([-5,5])\n",
    "plt.xlabel('PC 1')\n",
    "plt.xlabel('PC 2')"
   ]
  },
  {
   "cell_type": "code",
   "execution_count": 26,
   "metadata": {},
   "outputs": [
    {
     "data": {
      "text/plain": [
       "Text(0.5, 0, 'PC 4')"
      ]
     },
     "execution_count": 26,
     "metadata": {},
     "output_type": "execute_result"
    },
    {
     "data": {
      "image/png": "[encoded data removed]",
      "text/plain": [
       "<Figure size 432x288 with 1 Axes>"
      ]
     },
     "metadata": {
      "needs_background": "light"
     },
     "output_type": "display_data"
    }
   ],
   "source": [
    "plt.figure()\n",
    "plt.plot(S[:,2],S[:,3],'.')\n",
    "plt.xlim([-5,5])\n",
    "plt.ylim([-5,5])\n",
    "plt.xlabel('PC 3')\n",
    "plt.xlabel('PC 4')"
   ]
  },
  {
   "cell_type": "markdown",
   "metadata": {},
   "source": [
    "Compared with the first two PCs, looking at the data projected onto the third and fourth PC's shows much less scatter. These PC's do not account for much of the variance, just small-variance noise in the data. \n",
    "\n",
    "Most of the variance in the data is now spread out along the PC1 axis"
   ]
  },
  {
   "cell_type": "code",
   "execution_count": null,
   "metadata": {
    "collapsed": true,
    "jupyter": {
     "outputs_hidden": true
    }
   },
   "outputs": [],
   "source": []
  }
 ],
 "metadata": {
  "anaconda-cloud": {},
  "kernelspec": {
   "display_name": "Python [conda env:ms263]",
   "language": "python",
   "name": "conda-env-ms263-py"
  },
  "language_info": {
   "codemirror_mode": {
    "name": "ipython",
    "version": 3
   },
   "file_extension": ".py",
   "mimetype": "text/x-python",
   "name": "python",
   "nbconvert_exporter": "python",
   "pygments_lexer": "ipython3",
   "version": "3.7.6"
  }
 },
 "nbformat": 4,
 "nbformat_minor": 4
}
